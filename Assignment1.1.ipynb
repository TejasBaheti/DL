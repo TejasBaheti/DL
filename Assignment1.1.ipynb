{
 "cells": [
  {
   "cell_type": "code",
   "execution_count": 1,
   "id": "624a914d",
   "metadata": {},
   "outputs": [
    {
     "name": "stderr",
     "output_type": "stream",
     "text": [
      "2023-10-09 12:37:18.720326: I tensorflow/core/platform/cpu_feature_guard.cc:193] This TensorFlow binary is optimized with oneAPI Deep Neural Network Library (oneDNN) to use the following CPU instructions in performance-critical operations:  AVX2 AVX_VNNI FMA\n",
      "To enable them in other operations, rebuild TensorFlow with the appropriate compiler flags.\n",
      "2023-10-09 12:37:18.824351: I tensorflow/core/util/util.cc:169] oneDNN custom operations are on. You may see slightly different numerical results due to floating-point round-off errors from different computation orders. To turn them off, set the environment variable `TF_ENABLE_ONEDNN_OPTS=0`.\n",
      "2023-10-09 12:37:18.828242: W tensorflow/stream_executor/platform/default/dso_loader.cc:64] Could not load dynamic library 'libcudart.so.11.0'; dlerror: libcudart.so.11.0: cannot open shared object file: No such file or directory\n",
      "2023-10-09 12:37:18.828253: I tensorflow/stream_executor/cuda/cudart_stub.cc:29] Ignore above cudart dlerror if you do not have a GPU set up on your machine.\n",
      "2023-10-09 12:37:18.845067: E tensorflow/stream_executor/cuda/cuda_blas.cc:2981] Unable to register cuBLAS factory: Attempting to register factory for plugin cuBLAS when one has already been registered\n",
      "2023-10-09 12:37:19.393690: W tensorflow/stream_executor/platform/default/dso_loader.cc:64] Could not load dynamic library 'libnvinfer.so.7'; dlerror: libnvinfer.so.7: cannot open shared object file: No such file or directory\n",
      "2023-10-09 12:37:19.393730: W tensorflow/stream_executor/platform/default/dso_loader.cc:64] Could not load dynamic library 'libnvinfer_plugin.so.7'; dlerror: libnvinfer_plugin.so.7: cannot open shared object file: No such file or directory\n",
      "2023-10-09 12:37:19.393733: W tensorflow/compiler/tf2tensorrt/utils/py_utils.cc:38] TF-TRT Warning: Cannot dlopen some TensorRT libraries. If you would like to use Nvidia GPU with TensorRT, please make sure the missing libraries mentioned above are installed properly.\n"
     ]
    }
   ],
   "source": [
    "import tensorflow as tf\n",
    "import numpy as np"
   ]
  },
  {
   "cell_type": "code",
   "execution_count": 2,
   "id": "af4c5c03",
   "metadata": {},
   "outputs": [
    {
     "name": "stdout",
     "output_type": "stream",
     "text": [
      "tf.Tensor(35, shape=(), dtype=int32)\n"
     ]
    },
    {
     "name": "stderr",
     "output_type": "stream",
     "text": [
      "2023-10-09 12:37:35.822739: W tensorflow/stream_executor/platform/default/dso_loader.cc:64] Could not load dynamic library 'libcuda.so.1'; dlerror: libcuda.so.1: cannot open shared object file: No such file or directory\n",
      "2023-10-09 12:37:35.822777: W tensorflow/stream_executor/cuda/cuda_driver.cc:263] failed call to cuInit: UNKNOWN ERROR (303)\n",
      "2023-10-09 12:37:35.822804: I tensorflow/stream_executor/cuda/cuda_diagnostics.cc:156] kernel driver does not appear to be running on this host (student): /proc/driver/nvidia/version does not exist\n",
      "2023-10-09 12:37:35.823214: I tensorflow/core/platform/cpu_feature_guard.cc:193] This TensorFlow binary is optimized with oneAPI Deep Neural Network Library (oneDNN) to use the following CPU instructions in performance-critical operations:  AVX2 AVX_VNNI FMA\n",
      "To enable them in other operations, rebuild TensorFlow with the appropriate compiler flags.\n"
     ]
    }
   ],
   "source": [
    "a = tf.constant(15)\n",
    "b = tf.constant(20)\n",
    "print(a+b)"
   ]
  },
  {
   "cell_type": "code",
   "execution_count": 3,
   "id": "fef8bda4",
   "metadata": {
    "scrolled": true
   },
   "outputs": [
    {
     "name": "stdout",
     "output_type": "stream",
     "text": [
      "[5.3268361e-01 5.0957578e-01 3.0657321e-01 4.9369591e-01 1.2687951e-01\n",
      " 1.7604682e-01 8.3527470e-01 8.4282702e-01 5.3402048e-01 4.7180212e-01\n",
      " 7.3928946e-01 3.8847987e-02 1.3010883e-01 9.4329602e-01 1.0241303e-01\n",
      " 8.1602746e-01 7.1878213e-01 2.9161575e-01 2.9640335e-01 2.0757981e-01\n",
      " 4.7502741e-01 1.2186153e-01 1.3820748e-01 5.5882519e-01 8.9018971e-01\n",
      " 2.8525051e-01 3.9685253e-04 1.9782495e-01 8.4452152e-01 9.1143632e-01\n",
      " 6.2015676e-01 6.6913271e-01 3.9643103e-01 1.9078062e-01 7.2492950e-02\n",
      " 1.2808368e-01 4.0058035e-01 2.0529106e-01 5.9506971e-01 6.7545873e-01\n",
      " 1.1336442e-01 9.3199772e-01 2.6560375e-01 2.1989366e-01 1.4046362e-01\n",
      " 1.7093326e-01 1.7102921e-01 7.3387426e-01 2.5706691e-01 1.1078219e-02\n",
      " 6.1470568e-01 8.1699127e-01 5.5072176e-01 2.0181024e-01 1.4360173e-02\n",
      " 6.6931468e-01 9.5278323e-01 3.5729563e-01 9.7962290e-01 9.9035209e-01\n",
      " 3.4657943e-01 6.8373287e-01 8.1161588e-01 9.1933864e-01 8.1735152e-01\n",
      " 4.1571468e-01 5.9582812e-01 4.8345333e-01 3.7942648e-01 6.3724744e-01\n",
      " 7.4891442e-01 5.1652908e-01 4.4204679e-01 4.7855309e-01 2.0050298e-01\n",
      " 6.8843502e-01 2.3260118e-01 5.8422208e-01 4.0161677e-02 5.9700632e-01\n",
      " 1.6885775e-01 3.4426954e-01 6.6339535e-01 3.8086495e-01 2.7421253e-02\n",
      " 6.5729779e-01 9.5750397e-01 6.4858907e-01 1.5247273e-01 9.2033410e-01\n",
      " 1.8586245e-01 5.7755780e-01 4.2106119e-01 7.3495036e-01 1.2789279e-01\n",
      " 5.3009152e-02 4.8227006e-01 3.7354520e-01 3.0813061e-02 7.3486257e-01]\n"
     ]
    }
   ],
   "source": [
    "x = np.random.rand(100).astype(np.float32)\n",
    "print(x)\n",
    "# output - observed\n",
    "\n",
    "y = x * 0.2 + 0.2\n",
    "\n",
    "# Weight\n",
    "W = tf.Variable(tf.random.normal([1]))\n",
    "\n",
    "# bias\n",
    "b = tf.Variable(tf.zeros([1]))\n",
    "\n",
    "# Create a function for MSE - mean squared error\n",
    "def mse_loss():\n",
    "    ypred = W * x + b\n",
    "    loss = tf.reduce_mean(tf.square(ypred-y))\n",
    "    return loss\n",
    "\n",
    "# Optimizer\n",
    "optimizer = tf.keras.optimizers.Adam()\n",
    "\n",
    "# Iterations\n",
    "for step in range(5000):\n",
    "    optimizer.minimize(mse_loss,var_list=[W,b])\n",
    "if step % 500 == 0:\n",
    "    print(step, W.numpy(), b.numpy())"
   ]
  },
  {
   "cell_type": "code",
   "execution_count": null,
   "id": "65d29bda",
   "metadata": {},
   "outputs": [],
   "source": []
  }
 ],
 "metadata": {
  "kernelspec": {
   "display_name": "Python 3 (ipykernel)",
   "language": "python",
   "name": "python3"
  },
  "language_info": {
   "codemirror_mode": {
    "name": "ipython",
    "version": 3
   },
   "file_extension": ".py",
   "mimetype": "text/x-python",
   "name": "python",
   "nbconvert_exporter": "python",
   "pygments_lexer": "ipython3",
   "version": "3.10.12"
  }
 },
 "nbformat": 4,
 "nbformat_minor": 5
}
