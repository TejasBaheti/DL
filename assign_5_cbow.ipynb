{
 "cells": [
  {
   "cell_type": "code",
   "execution_count": 1,
   "id": "b051f48b",
   "metadata": {
    "id": "b051f48b"
   },
   "outputs": [],
   "source": [
    "import pandas as pd\n",
    "import numpy as np\n",
    "import collections\n",
    "import re"
   ]
  },
  {
   "cell_type": "code",
   "execution_count": 2,
   "id": "9d4c5b52",
   "metadata": {
    "id": "9d4c5b52"
   },
   "outputs": [],
   "source": [
    "f=open(\"text.txt\")\n",
    "doc1=f.read()\n",
    "f.close()\n",
    "\n"
   ]
  },
  {
   "cell_type": "code",
   "execution_count": 3,
   "id": "ca05e471",
   "metadata": {
    "id": "ca05e471",
    "outputId": "af835175-5ee0-4e0b-b93f-ece8f6e5577e"
   },
   "outputs": [
    {
     "data": {
      "text/plain": [
       "'Game of Thrones is the best T.V series\\nGame of Thrones is a really great T.V series\\nGame of Thrones is very good Series'"
      ]
     },
     "execution_count": 3,
     "metadata": {},
     "output_type": "execute_result"
    }
   ],
   "source": [
    "\n",
    "doc1"
   ]
  },
  {
   "cell_type": "code",
   "execution_count": 4,
   "id": "83690756",
   "metadata": {
    "id": "83690756"
   },
   "outputs": [],
   "source": [
    "l_doc1 = re.sub(r\"[^a-zA-Z0-9]\", \" \", doc1.lower()).split()\n"
   ]
  },
  {
   "cell_type": "code",
   "execution_count": 5,
   "id": "34315914",
   "metadata": {
    "id": "34315914",
    "outputId": "e208e85c-45db-4e91-b4f7-5de8d8ecfab2"
   },
   "outputs": [
    {
     "data": {
      "text/plain": [
       "['game',\n",
       " 'of',\n",
       " 'thrones',\n",
       " 'is',\n",
       " 'the',\n",
       " 'best',\n",
       " 't',\n",
       " 'v',\n",
       " 'series',\n",
       " 'game',\n",
       " 'of',\n",
       " 'thrones',\n",
       " 'is',\n",
       " 'a',\n",
       " 'really',\n",
       " 'great',\n",
       " 't',\n",
       " 'v',\n",
       " 'series',\n",
       " 'game',\n",
       " 'of',\n",
       " 'thrones',\n",
       " 'is',\n",
       " 'very',\n",
       " 'good',\n",
       " 'series']"
      ]
     },
     "execution_count": 5,
     "metadata": {},
     "output_type": "execute_result"
    }
   ],
   "source": [
    "l_doc1"
   ]
  },
  {
   "cell_type": "code",
   "execution_count": 6,
   "id": "3670b227",
   "metadata": {
    "id": "3670b227"
   },
   "outputs": [],
   "source": [
    "l=l_doc1"
   ]
  },
  {
   "cell_type": "code",
   "execution_count": 7,
   "id": "d07d96b7",
   "metadata": {
    "id": "d07d96b7",
    "outputId": "c6f4ca0c-e05e-45bd-f376-e9715405e4a3"
   },
   "outputs": [
    {
     "data": {
      "text/plain": [
       "['game',\n",
       " 'of',\n",
       " 'thrones',\n",
       " 'is',\n",
       " 'the',\n",
       " 'best',\n",
       " 't',\n",
       " 'v',\n",
       " 'series',\n",
       " 'game',\n",
       " 'of',\n",
       " 'thrones',\n",
       " 'is',\n",
       " 'a',\n",
       " 'really',\n",
       " 'great',\n",
       " 't',\n",
       " 'v',\n",
       " 'series',\n",
       " 'game',\n",
       " 'of',\n",
       " 'thrones',\n",
       " 'is',\n",
       " 'very',\n",
       " 'good',\n",
       " 'series']"
      ]
     },
     "execution_count": 7,
     "metadata": {},
     "output_type": "execute_result"
    }
   ],
   "source": [
    "l"
   ]
  },
  {
   "cell_type": "code",
   "execution_count": 8,
   "id": "b7da8186",
   "metadata": {
    "id": "b7da8186"
   },
   "outputs": [],
   "source": [
    "wordset=set(l)"
   ]
  },
  {
   "cell_type": "code",
   "execution_count": 9,
   "id": "3fe06ad1",
   "metadata": {
    "id": "3fe06ad1",
    "outputId": "142c9618-0c14-4042-c5f1-c3f9941c0b5f"
   },
   "outputs": [
    {
     "data": {
      "text/plain": [
       "{'a',\n",
       " 'best',\n",
       " 'game',\n",
       " 'good',\n",
       " 'great',\n",
       " 'is',\n",
       " 'of',\n",
       " 'really',\n",
       " 'series',\n",
       " 't',\n",
       " 'the',\n",
       " 'thrones',\n",
       " 'v',\n",
       " 'very'}"
      ]
     },
     "execution_count": 9,
     "metadata": {},
     "output_type": "execute_result"
    }
   ],
   "source": [
    "wordset"
   ]
  },
  {
   "cell_type": "code",
   "execution_count": 10,
   "id": "270262a1",
   "metadata": {
    "id": "270262a1"
   },
   "outputs": [],
   "source": [
    "def calculateBOW(wordset,l_doc):\n",
    "  tf_diz = dict.fromkeys(wordset,0)\n",
    "  for word in l_doc:\n",
    "      tf_diz[word]=l_doc.count(word)\n",
    "  return tf_diz"
   ]
  },
  {
   "cell_type": "code",
   "execution_count": 11,
   "id": "5b9de5b8",
   "metadata": {
    "id": "5b9de5b8",
    "outputId": "26d7d3ec-7994-4ef3-d861-90237a95fc05"
   },
   "outputs": [
    {
     "data": {
      "text/html": [
       "<div>\n",
       "<style scoped>\n",
       "    .dataframe tbody tr th:only-of-type {\n",
       "        vertical-align: middle;\n",
       "    }\n",
       "\n",
       "    .dataframe tbody tr th {\n",
       "        vertical-align: top;\n",
       "    }\n",
       "\n",
       "    .dataframe thead th {\n",
       "        text-align: right;\n",
       "    }\n",
       "</style>\n",
       "<table border=\"1\" class=\"dataframe\">\n",
       "  <thead>\n",
       "    <tr style=\"text-align: right;\">\n",
       "      <th></th>\n",
       "      <th>is</th>\n",
       "      <th>game</th>\n",
       "      <th>best</th>\n",
       "      <th>series</th>\n",
       "      <th>good</th>\n",
       "      <th>great</th>\n",
       "      <th>v</th>\n",
       "      <th>very</th>\n",
       "      <th>t</th>\n",
       "      <th>thrones</th>\n",
       "      <th>a</th>\n",
       "      <th>of</th>\n",
       "      <th>really</th>\n",
       "      <th>the</th>\n",
       "    </tr>\n",
       "  </thead>\n",
       "  <tbody>\n",
       "    <tr>\n",
       "      <th>0</th>\n",
       "      <td>3</td>\n",
       "      <td>3</td>\n",
       "      <td>1</td>\n",
       "      <td>3</td>\n",
       "      <td>1</td>\n",
       "      <td>1</td>\n",
       "      <td>2</td>\n",
       "      <td>1</td>\n",
       "      <td>2</td>\n",
       "      <td>3</td>\n",
       "      <td>1</td>\n",
       "      <td>3</td>\n",
       "      <td>1</td>\n",
       "      <td>1</td>\n",
       "    </tr>\n",
       "  </tbody>\n",
       "</table>\n",
       "</div>"
      ],
      "text/plain": [
       "   is  game  best  series  good  great  v  very  t  thrones  a  of  really  \\\n",
       "0   3     3     1       3     1      1  2     1  2        3  1   3       1   \n",
       "\n",
       "   the  \n",
       "0    1  "
      ]
     },
     "execution_count": 11,
     "metadata": {},
     "output_type": "execute_result"
    }
   ],
   "source": [
    "bow1 = calculateBOW(wordset,l_doc1)\n",
    "df_bow = pd.DataFrame([bow1])\n",
    "df_bow.head()"
   ]
  },
  {
   "cell_type": "code",
   "execution_count": 12,
   "id": "4b9607a9",
   "metadata": {
    "id": "4b9607a9"
   },
   "outputs": [],
   "source": [
    "from sklearn.feature_extraction.text import CountVectorizer\n",
    "vectorizer = CountVectorizer()"
   ]
  },
  {
   "cell_type": "code",
   "execution_count": 13,
   "id": "83478fe7",
   "metadata": {
    "id": "83478fe7",
    "outputId": "7be845e2-999a-4e7c-8f41-869613b9182c"
   },
   "outputs": [
    {
     "data": {
      "text/html": [
       "<div>\n",
       "<style scoped>\n",
       "    .dataframe tbody tr th:only-of-type {\n",
       "        vertical-align: middle;\n",
       "    }\n",
       "\n",
       "    .dataframe tbody tr th {\n",
       "        vertical-align: top;\n",
       "    }\n",
       "\n",
       "    .dataframe thead th {\n",
       "        text-align: right;\n",
       "    }\n",
       "</style>\n",
       "<table border=\"1\" class=\"dataframe\">\n",
       "  <thead>\n",
       "    <tr style=\"text-align: right;\">\n",
       "      <th></th>\n",
       "      <th>best</th>\n",
       "      <th>game</th>\n",
       "      <th>good</th>\n",
       "      <th>great</th>\n",
       "      <th>is</th>\n",
       "      <th>of</th>\n",
       "      <th>really</th>\n",
       "      <th>series</th>\n",
       "      <th>the</th>\n",
       "      <th>thrones</th>\n",
       "      <th>very</th>\n",
       "    </tr>\n",
       "  </thead>\n",
       "  <tbody>\n",
       "    <tr>\n",
       "      <th>0</th>\n",
       "      <td>1</td>\n",
       "      <td>3</td>\n",
       "      <td>1</td>\n",
       "      <td>1</td>\n",
       "      <td>3</td>\n",
       "      <td>3</td>\n",
       "      <td>1</td>\n",
       "      <td>3</td>\n",
       "      <td>1</td>\n",
       "      <td>3</td>\n",
       "      <td>1</td>\n",
       "    </tr>\n",
       "  </tbody>\n",
       "</table>\n",
       "</div>"
      ],
      "text/plain": [
       "   best  game  good  great  is  of  really  series  the  thrones  very\n",
       "0     1     3     1      1   3   3       1       3    1        3     1"
      ]
     },
     "execution_count": 13,
     "metadata": {},
     "output_type": "execute_result"
    }
   ],
   "source": [
    "X = vectorizer.fit_transform([doc1])\n",
    "df_bow_sklearn = pd.DataFrame(X.toarray(),columns=vectorizer.get_feature_names_out())\n",
    "df_bow_sklearn.head()"
   ]
  },
  {
   "cell_type": "code",
   "execution_count": 14,
   "id": "e486eeff",
   "metadata": {
    "id": "e486eeff",
    "outputId": "78bba8a0-85df-44f8-e6ef-848f2dfe40dd"
   },
   "outputs": [
    {
     "name": "stdout",
     "output_type": "stream",
     "text": [
      "['best' 'game' 'good' 'great' 'is' 'of' 'really' 'series' 'the' 'thrones'\n",
      " 'very']\n"
     ]
    }
   ],
   "source": [
    "print(vectorizer.get_feature_names_out())"
   ]
  },
  {
   "cell_type": "code",
   "execution_count": 15,
   "id": "509a4989",
   "metadata": {
    "id": "509a4989",
    "outputId": "4d04ad26-c242-4771-f481-958ec9f884f1"
   },
   "outputs": [
    {
     "name": "stderr",
     "output_type": "stream",
     "text": [
      "[nltk_data] Downloading package punkt to /home/student/nltk_data...\n",
      "[nltk_data]   Package punkt is already up-to-date!\n"
     ]
    }
   ],
   "source": [
    "import nltk\n",
    "nltk.download('punkt')\n",
    "import re\n",
    "import numpy as np\n",
    "\n",
    "f= open(\"text.txt\")\n",
    "text=f.read()\n",
    "f.close()\n",
    "dataset = nltk.sent_tokenize(text)\n",
    "for i in range(len(dataset)):\n",
    "    dataset[i] = dataset[i].lower()\n",
    "    dataset[i] = re.sub(r'\\W', ' ', dataset[i])\n",
    "    dataset[i] = re.sub(r'\\s+', ' ', dataset[i])"
   ]
  },
  {
   "cell_type": "code",
   "execution_count": 16,
   "id": "298ffbed",
   "metadata": {
    "id": "298ffbed",
    "outputId": "1e11c1c8-32f8-4820-82b3-efeeafc68bbf"
   },
   "outputs": [
    {
     "name": "stdout",
     "output_type": "stream",
     "text": [
      "['game of thrones is the best t v series game of thrones is a really great t v series game of thrones is very good series']\n"
     ]
    }
   ],
   "source": [
    "print(dataset)"
   ]
  },
  {
   "cell_type": "code",
   "execution_count": 17,
   "id": "9455f5b4",
   "metadata": {
    "id": "9455f5b4"
   },
   "outputs": [],
   "source": [
    "word2count = {}\n",
    "for data in dataset:\n",
    "    words = nltk.word_tokenize(data)\n",
    "    for word in words:\n",
    "        if word not in word2count.keys():\n",
    "            word2count[word] = 1\n",
    "        else:\n",
    "            word2count[word] += 1"
   ]
  },
  {
   "cell_type": "code",
   "execution_count": 18,
   "id": "eabfb0cc",
   "metadata": {
    "id": "eabfb0cc",
    "outputId": "f81ab81d-f2af-412d-8d03-bf8ce1ac35be"
   },
   "outputs": [
    {
     "data": {
      "text/plain": [
       "{'game': 3,\n",
       " 'of': 3,\n",
       " 'thrones': 3,\n",
       " 'is': 3,\n",
       " 'the': 1,\n",
       " 'best': 1,\n",
       " 't': 2,\n",
       " 'v': 2,\n",
       " 'series': 3,\n",
       " 'a': 1,\n",
       " 'really': 1,\n",
       " 'great': 1,\n",
       " 'very': 1,\n",
       " 'good': 1}"
      ]
     },
     "execution_count": 18,
     "metadata": {},
     "output_type": "execute_result"
    }
   ],
   "source": [
    "word2count"
   ]
  },
  {
   "cell_type": "code",
   "execution_count": 19,
   "id": "82c41af9",
   "metadata": {
    "id": "82c41af9",
    "outputId": "540358a8-e55e-486f-cf5b-5b214d3e30c9"
   },
   "outputs": [
    {
     "data": {
      "text/plain": [
       "['game',\n",
       " 'of',\n",
       " 'thrones',\n",
       " 'is',\n",
       " 'the',\n",
       " 'best',\n",
       " 't',\n",
       " 'v',\n",
       " 'series',\n",
       " 'game',\n",
       " 'of',\n",
       " 'thrones',\n",
       " 'is',\n",
       " 'a',\n",
       " 'really',\n",
       " 'great',\n",
       " 't',\n",
       " 'v',\n",
       " 'series',\n",
       " 'game',\n",
       " 'of',\n",
       " 'thrones',\n",
       " 'is',\n",
       " 'very',\n",
       " 'good',\n",
       " 'series']"
      ]
     },
     "execution_count": 19,
     "metadata": {},
     "output_type": "execute_result"
    }
   ],
   "source": [
    "words\n"
   ]
  },
  {
   "cell_type": "code",
   "execution_count": 20,
   "id": "c00c6e33",
   "metadata": {
    "id": "c00c6e33",
    "outputId": "4e399fc4-e552-4c9d-9ed8-24a15261dce2"
   },
   "outputs": [
    {
     "data": {
      "text/plain": [
       "26"
      ]
     },
     "execution_count": 20,
     "metadata": {},
     "output_type": "execute_result"
    }
   ],
   "source": [
    "len(words)"
   ]
  },
  {
   "cell_type": "code",
   "execution_count": 21,
   "id": "d902df29",
   "metadata": {
    "id": "d902df29"
   },
   "outputs": [],
   "source": [
    "vocab_size = len(wordset)\n",
    "embed_dim = 10\n",
    "context_size = 4"
   ]
  },
  {
   "cell_type": "code",
   "execution_count": 22,
   "id": "1d2baf67",
   "metadata": {
    "id": "1d2baf67"
   },
   "outputs": [],
   "source": [
    "word_to_ix = {word: i for i, word in enumerate(wordset)}\n",
    "ix_to_word = {i: word for i, word in enumerate(wordset)}"
   ]
  },
  {
   "cell_type": "code",
   "execution_count": 23,
   "id": "f7c3a477",
   "metadata": {
    "id": "f7c3a477",
    "outputId": "30893465-1cc4-43ba-cef2-98c42258ffda"
   },
   "outputs": [
    {
     "data": {
      "text/plain": [
       "{'is': 0,\n",
       " 'game': 1,\n",
       " 'best': 2,\n",
       " 'series': 3,\n",
       " 'good': 4,\n",
       " 'great': 5,\n",
       " 'v': 6,\n",
       " 'very': 7,\n",
       " 't': 8,\n",
       " 'thrones': 9,\n",
       " 'a': 10,\n",
       " 'of': 11,\n",
       " 'really': 12,\n",
       " 'the': 13}"
      ]
     },
     "execution_count": 23,
     "metadata": {},
     "output_type": "execute_result"
    }
   ],
   "source": [
    "word_to_ix"
   ]
  },
  {
   "cell_type": "code",
   "execution_count": 24,
   "id": "17e9f7e9",
   "metadata": {
    "id": "17e9f7e9",
    "outputId": "daaec6f8-3187-4982-af9c-8580e6eeffe4"
   },
   "outputs": [
    {
     "data": {
      "text/plain": [
       "{0: 'is',\n",
       " 1: 'game',\n",
       " 2: 'best',\n",
       " 3: 'series',\n",
       " 4: 'good',\n",
       " 5: 'great',\n",
       " 6: 'v',\n",
       " 7: 'very',\n",
       " 8: 't',\n",
       " 9: 'thrones',\n",
       " 10: 'a',\n",
       " 11: 'of',\n",
       " 12: 'really',\n",
       " 13: 'the'}"
      ]
     },
     "execution_count": 24,
     "metadata": {},
     "output_type": "execute_result"
    }
   ],
   "source": [
    "ix_to_word"
   ]
  },
  {
   "cell_type": "code",
   "execution_count": 25,
   "id": "bcd8c11d",
   "metadata": {
    "id": "bcd8c11d",
    "outputId": "e3533bcb-bb9d-4c1c-9956-b839637feaf8"
   },
   "outputs": [
    {
     "name": "stdout",
     "output_type": "stream",
     "text": [
      "[(['game', 'of', 'is', 'the'], 'thrones'), (['of', 'thrones', 'the', 'best'], 'is'), (['thrones', 'is', 'best', 't'], 'the'), (['is', 'the', 't', 'v'], 'best'), (['the', 'best', 'v', 'series'], 't')]\n"
     ]
    }
   ],
   "source": [
    "data = []\n",
    "for i in range(2, len(words) - 2):\n",
    "    context = [words[i - 2], words[i - 1], words[i + 1], words[i + 2]]\n",
    "    target = words[i]\n",
    "    data.append((context, target))\n",
    "print(data[:5])"
   ]
  },
  {
   "cell_type": "code",
   "execution_count": 26,
   "id": "c5db665f",
   "metadata": {
    "id": "c5db665f"
   },
   "outputs": [],
   "source": [
    "embeddings =  np.random.random_sample((vocab_size, embed_dim))"
   ]
  },
  {
   "cell_type": "code",
   "execution_count": 27,
   "id": "50435d07",
   "metadata": {
    "id": "50435d07",
    "outputId": "04704052-f375-4dcd-e0b1-69ab20807aa6"
   },
   "outputs": [
    {
     "data": {
      "text/plain": [
       "array([[0.93830746, 0.56955926, 0.83946591, 0.24899449, 0.03534436,\n",
       "        0.88709356, 0.46376251, 0.83156363, 0.19759532, 0.23013546],\n",
       "       [0.11141477, 0.46170685, 0.65571073, 0.52102827, 0.60471188,\n",
       "        0.2725858 , 0.56986828, 0.5266429 , 0.36351869, 0.22500613],\n",
       "       [0.32764328, 0.47666979, 0.05722809, 0.94849505, 0.93109616,\n",
       "        0.09968204, 0.61958121, 0.87341662, 0.00308952, 0.80810127],\n",
       "       [0.00769126, 0.61193599, 0.05882037, 0.31714134, 0.01503393,\n",
       "        0.13631718, 0.49124879, 0.92139715, 0.52789282, 0.38286657],\n",
       "       [0.65161404, 0.42243234, 0.65259731, 0.9561115 , 0.82442867,\n",
       "        0.00806533, 0.87016832, 0.17331145, 0.92206559, 0.93099686],\n",
       "       [0.99548691, 0.43836924, 0.85049665, 0.44990255, 0.65685437,\n",
       "        0.15209092, 0.7498111 , 0.02321127, 0.86264996, 0.36542012],\n",
       "       [0.31479996, 0.98401197, 0.00920956, 0.91776256, 0.93712308,\n",
       "        0.62130776, 0.23434447, 0.39974592, 0.73857388, 0.37782787],\n",
       "       [0.94005024, 0.70902597, 0.22154255, 0.1314677 , 0.03905078,\n",
       "        0.30302435, 0.55310665, 0.59051326, 0.09312767, 0.65704653],\n",
       "       [0.99644711, 0.77538746, 0.8983851 , 0.97155593, 0.94060764,\n",
       "        0.32194785, 0.80820396, 0.100735  , 0.99852931, 0.80492485],\n",
       "       [0.59884104, 0.47365402, 0.73114776, 0.40187901, 0.72545047,\n",
       "        0.65018301, 0.45070768, 0.21228205, 0.10818339, 0.70383078],\n",
       "       [0.93815658, 0.83876787, 0.35310293, 0.85081244, 0.03548119,\n",
       "        0.3780268 , 0.86345943, 0.97406404, 0.73305977, 0.54828284],\n",
       "       [0.92128934, 0.96267623, 0.2124011 , 0.10571198, 0.80498875,\n",
       "        0.43364775, 0.69273769, 0.28836907, 0.15294981, 0.50610778],\n",
       "       [0.35054201, 0.56724963, 0.28292886, 0.93020716, 0.18157779,\n",
       "        0.72070042, 0.23765663, 0.52718452, 0.05495807, 0.38856209],\n",
       "       [0.93980202, 0.02736399, 0.26357832, 0.23632747, 0.95729963,\n",
       "        0.26443675, 0.88275101, 0.92238257, 0.77053307, 0.79764767]])"
      ]
     },
     "execution_count": 27,
     "metadata": {},
     "output_type": "execute_result"
    }
   ],
   "source": [
    "embeddings"
   ]
  },
  {
   "cell_type": "code",
   "execution_count": 28,
   "id": "b5f4b918",
   "metadata": {
    "id": "b5f4b918"
   },
   "outputs": [],
   "source": [
    "def linear(m, theta):\n",
    "    w = theta\n",
    "    return m.dot(w)"
   ]
  },
  {
   "cell_type": "code",
   "execution_count": 29,
   "id": "f37e96cd",
   "metadata": {
    "id": "f37e96cd"
   },
   "outputs": [],
   "source": [
    "def log_softmax(x):\n",
    "    e_x = np.exp(x - np.max(x))\n",
    "    return np.log(e_x / e_x.sum())\n",
    "def NLLLoss(logs, targets):\n",
    "    out = logs[range(len(targets)), targets]\n",
    "    return -out.sum()/len(out)"
   ]
  },
  {
   "cell_type": "code",
   "execution_count": 30,
   "id": "b68247dd",
   "metadata": {
    "id": "b68247dd"
   },
   "outputs": [
    {
     "name": "stderr",
     "output_type": "stream",
     "text": [
      "2023-10-09 14:48:21.971850: I tensorflow/core/platform/cpu_feature_guard.cc:193] This TensorFlow binary is optimized with oneAPI Deep Neural Network Library (oneDNN) to use the following CPU instructions in performance-critical operations:  AVX2 AVX_VNNI FMA\n",
      "To enable them in other operations, rebuild TensorFlow with the appropriate compiler flags.\n",
      "2023-10-09 14:48:22.098711: I tensorflow/core/util/util.cc:169] oneDNN custom operations are on. You may see slightly different numerical results due to floating-point round-off errors from different computation orders. To turn them off, set the environment variable `TF_ENABLE_ONEDNN_OPTS=0`.\n",
      "2023-10-09 14:48:22.102562: W tensorflow/stream_executor/platform/default/dso_loader.cc:64] Could not load dynamic library 'libcudart.so.11.0'; dlerror: libcudart.so.11.0: cannot open shared object file: No such file or directory\n",
      "2023-10-09 14:48:22.102589: I tensorflow/stream_executor/cuda/cudart_stub.cc:29] Ignore above cudart dlerror if you do not have a GPU set up on your machine.\n",
      "2023-10-09 14:48:22.125559: E tensorflow/stream_executor/cuda/cuda_blas.cc:2981] Unable to register cuBLAS factory: Attempting to register factory for plugin cuBLAS when one has already been registered\n",
      "2023-10-09 14:48:22.720291: W tensorflow/stream_executor/platform/default/dso_loader.cc:64] Could not load dynamic library 'libnvinfer.so.7'; dlerror: libnvinfer.so.7: cannot open shared object file: No such file or directory\n",
      "2023-10-09 14:48:22.720353: W tensorflow/stream_executor/platform/default/dso_loader.cc:64] Could not load dynamic library 'libnvinfer_plugin.so.7'; dlerror: libnvinfer_plugin.so.7: cannot open shared object file: No such file or directory\n",
      "2023-10-09 14:48:22.720359: W tensorflow/compiler/tf2tensorrt/utils/py_utils.cc:38] TF-TRT Warning: Cannot dlopen some TensorRT libraries. If you would like to use Nvidia GPU with TensorRT, please make sure the missing libraries mentioned above are installed properly.\n"
     ]
    }
   ],
   "source": [
    "import tensorflow as tf\n",
    "import keras.backend as k\n",
    "from keras.models import Sequential\n",
    "from keras.layers import Dense, Embedding, Lambda"
   ]
  },
  {
   "cell_type": "code",
   "execution_count": null,
   "id": "5078e343",
   "metadata": {
    "id": "5078e343"
   },
   "outputs": [],
   "source": []
  },
  {
   "cell_type": "code",
   "execution_count": 31,
   "id": "85b84445",
   "metadata": {
    "id": "85b84445"
   },
   "outputs": [],
   "source": [
    "def log_softmax_crossentropy_with_logits(logits,target):\n",
    "\n",
    "    out = np.zeros_like(logits)\n",
    "    out[np.arange(len(logits)),target] = 1\n",
    "\n",
    "    softmax = np.exp(logits) / np.exp(logits).sum(axis=-1,keepdims=True)\n",
    "\n",
    "    return (- out + softmax) / logits.shape[0]"
   ]
  },
  {
   "cell_type": "code",
   "execution_count": 32,
   "id": "821ca3b1",
   "metadata": {
    "id": "821ca3b1"
   },
   "outputs": [],
   "source": [
    "def forward(context_idxs, theta):\n",
    "    m = embeddings[context_idxs].reshape(1, -1)\n",
    "    n = linear(m, theta)\n",
    "    o = log_softmax(n)\n",
    "\n",
    "    return m, n, o"
   ]
  },
  {
   "cell_type": "code",
   "execution_count": 33,
   "id": "bc8a0957",
   "metadata": {
    "id": "bc8a0957"
   },
   "outputs": [],
   "source": [
    "def backward(preds, theta, target_idxs):\n",
    "    m, n, o = preds\n",
    "\n",
    "    dlog = log_softmax_crossentropy_with_logits(n, target_idxs)\n",
    "    dw = m.T.dot(dlog)\n",
    "\n",
    "    return dw"
   ]
  },
  {
   "cell_type": "code",
   "execution_count": 34,
   "id": "da36e4f2",
   "metadata": {
    "id": "da36e4f2"
   },
   "outputs": [],
   "source": [
    "def optimize(theta, grad, lr=0.03):\n",
    "    theta -= grad * lr\n",
    "    return theta"
   ]
  },
  {
   "cell_type": "code",
   "execution_count": 35,
   "id": "4bf069cc",
   "metadata": {
    "id": "4bf069cc"
   },
   "outputs": [],
   "source": [
    "theta = np.random.uniform(-1, 1, ( context_size * embed_dim, vocab_size))"
   ]
  },
  {
   "cell_type": "code",
   "execution_count": 36,
   "id": "1a24acf7",
   "metadata": {
    "id": "1a24acf7"
   },
   "outputs": [],
   "source": [
    "epoch_losses = {}\n",
    "\n",
    "for epoch in range(80):\n",
    "\n",
    "    losses =  []\n",
    "\n",
    "    for context, target in data:\n",
    "        context_idxs = np.array([word_to_ix[w] for w in context])\n",
    "        preds = forward(context_idxs, theta)\n",
    "\n",
    "        target_idxs = np.array([word_to_ix[target]])\n",
    "        loss = NLLLoss(preds[-1], target_idxs)\n",
    "\n",
    "        losses.append(loss)\n",
    "\n",
    "        grad = backward(preds, theta, target_idxs)\n",
    "        theta = optimize(theta, grad, lr=0.03)\n",
    "\n",
    "        epoch_losses[epoch] = losses"
   ]
  },
  {
   "cell_type": "code",
   "execution_count": 37,
   "id": "6ab62843",
   "metadata": {
    "id": "6ab62843",
    "outputId": "2fad5968-70b0-4b6c-9b2f-4b74a7e09712"
   },
   "outputs": [
    {
     "data": {
      "text/plain": [
       "Text(0, 0.5, 'Losses')"
      ]
     },
     "execution_count": 37,
     "metadata": {},
     "output_type": "execute_result"
    },
    {
     "data": {
      "image/png": "[encoded data removed]",
      "text/plain": [
       "<Figure size 432x288 with 1 Axes>"
      ]
     },
     "metadata": {
      "needs_background": "light"
     },
     "output_type": "display_data"
    }
   ],
   "source": [
    "import matplotlib.pyplot as plt\n",
    "ix = np.arange(0,80)\n",
    "\n",
    "fig = plt.figure()\n",
    "fig.suptitle('Epoch/Losses', fontsize=20)\n",
    "plt.plot(ix,[epoch_losses[i][0] for i in ix])\n",
    "plt.xlabel('Epochs', fontsize=12)\n",
    "plt.ylabel('Losses', fontsize=12)"
   ]
  },
  {
   "cell_type": "code",
   "execution_count": 38,
   "id": "9d3f08dd",
   "metadata": {
    "id": "9d3f08dd",
    "outputId": "2dae2472-c0d0-4405-83d0-4157d3337ecd"
   },
   "outputs": [
    {
     "data": {
      "text/plain": [
       "'t'"
      ]
     },
     "execution_count": 38,
     "metadata": {},
     "output_type": "execute_result"
    }
   ],
   "source": [
    "def predict(words):\n",
    "    context_idxs = np.array([word_to_ix[w] for w in words])\n",
    "    preds = forward(context_idxs, theta)\n",
    "    word = ix_to_word[np.argmax(preds[-1])]\n",
    "\n",
    "    return word\n",
    "predict(['is', 'great', 'of', 'game'])"
   ]
  },
  {
   "cell_type": "code",
   "execution_count": 39,
   "id": "c9898b5c",
   "metadata": {
    "id": "c9898b5c",
    "outputId": "13e59210-fc7a-416a-9194-289cf5d93890"
   },
   "outputs": [
    {
     "data": {
      "text/plain": [
       "1.0"
      ]
     },
     "execution_count": 39,
     "metadata": {},
     "output_type": "execute_result"
    }
   ],
   "source": [
    "def accuracy():\n",
    "    wrong = 0\n",
    "\n",
    "    for context, target in data:\n",
    "        if(predict(context) != target):\n",
    "            wrong += 1\n",
    "\n",
    "    return (1 - (wrong / len(data)))\n",
    "accuracy()"
   ]
  },
  {
   "cell_type": "code",
   "execution_count": null,
   "id": "05263b83",
   "metadata": {
    "id": "05263b83"
   },
   "outputs": [],
   "source": []
  },
  {
   "cell_type": "code",
   "execution_count": null,
   "id": "a20ac338",
   "metadata": {},
   "outputs": [],
   "source": []
  }
 ],
 "metadata": {
  "colab": {
   "provenance": []
  },
  "kernelspec": {
   "display_name": "Python 3 (ipykernel)",
   "language": "python",
   "name": "python3"
  },
  "language_info": {
   "codemirror_mode": {
    "name": "ipython",
    "version": 3
   },
   "file_extension": ".py",
   "mimetype": "text/x-python",
   "name": "python",
   "nbconvert_exporter": "python",
   "pygments_lexer": "ipython3",
   "version": "3.10.12"
  }
 },
 "nbformat": 4,
 "nbformat_minor": 5
}
