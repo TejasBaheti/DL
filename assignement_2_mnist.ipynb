{
 "cells": [
  {
   "cell_type": "raw",
   "id": "fa127d1f",
   "metadata": {
    "id": "2eba16e2"
   },
   "source": [
    "# Feedforward neural network using Keras and Tensorflow MNIST digit dataset"
   ]
  },
  {
   "cell_type": "raw",
   "id": "86732219",
   "metadata": {
    "id": "2ff1db98"
   },
   "source": [
    "a. Import the necessary packages"
   ]
  },
  {
   "cell_type": "code",
   "execution_count": 1,
   "id": "1e3df09a",
   "metadata": {
    "id": "1e3df09a"
   },
   "outputs": [
    {
     "name": "stderr",
     "output_type": "stream",
     "text": [
      "2023-10-09 14:44:20.664588: I tensorflow/core/platform/cpu_feature_guard.cc:193] This TensorFlow binary is optimized with oneAPI Deep Neural Network Library (oneDNN) to use the following CPU instructions in performance-critical operations:  AVX2 AVX_VNNI FMA\n",
      "To enable them in other operations, rebuild TensorFlow with the appropriate compiler flags.\n",
      "2023-10-09 14:44:20.853927: I tensorflow/core/util/util.cc:169] oneDNN custom operations are on. You may see slightly different numerical results due to floating-point round-off errors from different computation orders. To turn them off, set the environment variable `TF_ENABLE_ONEDNN_OPTS=0`.\n",
      "2023-10-09 14:44:20.897056: W tensorflow/stream_executor/platform/default/dso_loader.cc:64] Could not load dynamic library 'libcudart.so.11.0'; dlerror: libcudart.so.11.0: cannot open shared object file: No such file or directory\n",
      "2023-10-09 14:44:20.897087: I tensorflow/stream_executor/cuda/cudart_stub.cc:29] Ignore above cudart dlerror if you do not have a GPU set up on your machine.\n",
      "2023-10-09 14:44:20.932028: E tensorflow/stream_executor/cuda/cuda_blas.cc:2981] Unable to register cuBLAS factory: Attempting to register factory for plugin cuBLAS when one has already been registered\n",
      "2023-10-09 14:44:21.637339: W tensorflow/stream_executor/platform/default/dso_loader.cc:64] Could not load dynamic library 'libnvinfer.so.7'; dlerror: libnvinfer.so.7: cannot open shared object file: No such file or directory\n",
      "2023-10-09 14:44:21.637379: W tensorflow/stream_executor/platform/default/dso_loader.cc:64] Could not load dynamic library 'libnvinfer_plugin.so.7'; dlerror: libnvinfer_plugin.so.7: cannot open shared object file: No such file or directory\n",
      "2023-10-09 14:44:21.637382: W tensorflow/compiler/tf2tensorrt/utils/py_utils.cc:38] TF-TRT Warning: Cannot dlopen some TensorRT libraries. If you would like to use Nvidia GPU with TensorRT, please make sure the missing libraries mentioned above are installed properly.\n"
     ]
    }
   ],
   "source": [
    "import tensorflow\n",
    "import numpy as np\n",
    "from tensorflow.keras.layers import Dense\n",
    "from tensorflow.keras.models import Sequential\n",
    "from tensorflow.keras.datasets import mnist\n",
    "import matplotlib.pyplot as plt\n",
    "from sklearn.metrics import classification_report, confusion_matrix\n",
    "import argparse"
   ]
  },
  {
   "cell_type": "raw",
   "id": "efb0b9a6",
   "metadata": {
    "id": "b6a66fe6"
   },
   "source": [
    "b. Load the training and testing data"
   ]
  },
  {
   "cell_type": "code",
   "execution_count": 2,
   "id": "98493bad",
   "metadata": {
    "id": "98493bad"
   },
   "outputs": [],
   "source": [
    "(x_train, y_train), (x_test, y_test) = mnist.load_data()"
   ]
  },
  {
   "cell_type": "code",
   "execution_count": 3,
   "id": "281a2233",
   "metadata": {
    "id": "281a2233",
    "outputId": "fe6aee00-b44e-435a-8e0b-34f2b5455c2e"
   },
   "outputs": [
    {
     "data": {
      "text/plain": [
       "(((60000, 28, 28), (60000,)), ((10000, 28, 28), (10000,)))"
      ]
     },
     "execution_count": 3,
     "metadata": {},
     "output_type": "execute_result"
    }
   ],
   "source": [
    "(x_train.shape, y_train.shape), (x_test.shape, y_test.shape)"
   ]
  },
  {
   "cell_type": "code",
   "execution_count": 4,
   "id": "c622c569",
   "metadata": {
    "id": "c622c569",
    "outputId": "b732f6cc-dcf5-4632-bb83-07c21a193149"
   },
   "outputs": [
    {
     "data": {
      "text/plain": [
       "<matplotlib.image.AxesImage at 0x7f7e8a849ed0>"
      ]
     },
     "execution_count": 4,
     "metadata": {},
     "output_type": "execute_result"
    },
    {
     "data": {
      "image/png": "[encoded data removed]",
      "text/plain": [
       "<Figure size 432x288 with 1 Axes>"
      ]
     },
     "metadata": {
      "needs_background": "light"
     },
     "output_type": "display_data"
    }
   ],
   "source": [
    "plt.imshow(x_train[0], cmap=\"gray\")"
   ]
  },
  {
   "cell_type": "code",
   "execution_count": 5,
   "id": "e01063da",
   "metadata": {
    "id": "e01063da",
    "outputId": "1b95b605-0509-41e1-9a0c-61c1dfe5495a"
   },
   "outputs": [
    {
     "data": {
      "text/plain": [
       "5"
      ]
     },
     "execution_count": 5,
     "metadata": {},
     "output_type": "execute_result"
    }
   ],
   "source": [
    "y_train[0]"
   ]
  },
  {
   "cell_type": "code",
   "execution_count": 6,
   "id": "12fc7322",
   "metadata": {
    "id": "12fc7322",
    "outputId": "2e744fa1-87a1-45a6-e40f-01082cc4dcb7",
    "scrolled": true
   },
   "outputs": [
    {
     "data": {
      "text/plain": [
       "array([[  0,   0,   0,   0,   0,   0,   0,   0,   0,   0,   0,   0,   0,\n",
       "          0,   0,   0,   0,   0,   0,   0,   0,   0,   0,   0,   0,   0,\n",
       "          0,   0],\n",
       "       [  0,   0,   0,   0,   0,   0,   0,   0,   0,   0,   0,   0,   0,\n",
       "          0,   0,   0,   0,   0,   0,   0,   0,   0,   0,   0,   0,   0,\n",
       "          0,   0],\n",
       "       [  0,   0,   0,   0,   0,   0,   0,   0,   0,   0,   0,   0,   0,\n",
       "          0,   0,   0,   0,   0,   0,   0,   0,   0,   0,   0,   0,   0,\n",
       "          0,   0],\n",
       "       [  0,   0,   0,   0,   0,   0,   0,   0,   0,   0,   0,   0,   0,\n",
       "          0,   0,   0,   0,   0,   0,   0,   0,   0,   0,   0,   0,   0,\n",
       "          0,   0],\n",
       "       [  0,   0,   0,   0,   0,   0,   0,   0,   0,   0,   0,   0,   0,\n",
       "          0,   0,   0,   0,   0,   0,   0,   0,   0,   0,   0,   0,   0,\n",
       "          0,   0],\n",
       "       [  0,   0,   0,   0,   0,   0,   0,   0,   0,   0,   0,   0,   3,\n",
       "         18,  18,  18, 126, 136, 175,  26, 166, 255, 247, 127,   0,   0,\n",
       "          0,   0],\n",
       "       [  0,   0,   0,   0,   0,   0,   0,   0,  30,  36,  94, 154, 170,\n",
       "        253, 253, 253, 253, 253, 225, 172, 253, 242, 195,  64,   0,   0,\n",
       "          0,   0],\n",
       "       [  0,   0,   0,   0,   0,   0,   0,  49, 238, 253, 253, 253, 253,\n",
       "        253, 253, 253, 253, 251,  93,  82,  82,  56,  39,   0,   0,   0,\n",
       "          0,   0],\n",
       "       [  0,   0,   0,   0,   0,   0,   0,  18, 219, 253, 253, 253, 253,\n",
       "        253, 198, 182, 247, 241,   0,   0,   0,   0,   0,   0,   0,   0,\n",
       "          0,   0],\n",
       "       [  0,   0,   0,   0,   0,   0,   0,   0,  80, 156, 107, 253, 253,\n",
       "        205,  11,   0,  43, 154,   0,   0,   0,   0,   0,   0,   0,   0,\n",
       "          0,   0],\n",
       "       [  0,   0,   0,   0,   0,   0,   0,   0,   0,  14,   1, 154, 253,\n",
       "         90,   0,   0,   0,   0,   0,   0,   0,   0,   0,   0,   0,   0,\n",
       "          0,   0],\n",
       "       [  0,   0,   0,   0,   0,   0,   0,   0,   0,   0,   0, 139, 253,\n",
       "        190,   2,   0,   0,   0,   0,   0,   0,   0,   0,   0,   0,   0,\n",
       "          0,   0],\n",
       "       [  0,   0,   0,   0,   0,   0,   0,   0,   0,   0,   0,  11, 190,\n",
       "        253,  70,   0,   0,   0,   0,   0,   0,   0,   0,   0,   0,   0,\n",
       "          0,   0],\n",
       "       [  0,   0,   0,   0,   0,   0,   0,   0,   0,   0,   0,   0,  35,\n",
       "        241, 225, 160, 108,   1,   0,   0,   0,   0,   0,   0,   0,   0,\n",
       "          0,   0],\n",
       "       [  0,   0,   0,   0,   0,   0,   0,   0,   0,   0,   0,   0,   0,\n",
       "         81, 240, 253, 253, 119,  25,   0,   0,   0,   0,   0,   0,   0,\n",
       "          0,   0],\n",
       "       [  0,   0,   0,   0,   0,   0,   0,   0,   0,   0,   0,   0,   0,\n",
       "          0,  45, 186, 253, 253, 150,  27,   0,   0,   0,   0,   0,   0,\n",
       "          0,   0],\n",
       "       [  0,   0,   0,   0,   0,   0,   0,   0,   0,   0,   0,   0,   0,\n",
       "          0,   0,  16,  93, 252, 253, 187,   0,   0,   0,   0,   0,   0,\n",
       "          0,   0],\n",
       "       [  0,   0,   0,   0,   0,   0,   0,   0,   0,   0,   0,   0,   0,\n",
       "          0,   0,   0,   0, 249, 253, 249,  64,   0,   0,   0,   0,   0,\n",
       "          0,   0],\n",
       "       [  0,   0,   0,   0,   0,   0,   0,   0,   0,   0,   0,   0,   0,\n",
       "          0,  46, 130, 183, 253, 253, 207,   2,   0,   0,   0,   0,   0,\n",
       "          0,   0],\n",
       "       [  0,   0,   0,   0,   0,   0,   0,   0,   0,   0,   0,   0,  39,\n",
       "        148, 229, 253, 253, 253, 250, 182,   0,   0,   0,   0,   0,   0,\n",
       "          0,   0],\n",
       "       [  0,   0,   0,   0,   0,   0,   0,   0,   0,   0,  24, 114, 221,\n",
       "        253, 253, 253, 253, 201,  78,   0,   0,   0,   0,   0,   0,   0,\n",
       "          0,   0],\n",
       "       [  0,   0,   0,   0,   0,   0,   0,   0,  23,  66, 213, 253, 253,\n",
       "        253, 253, 198,  81,   2,   0,   0,   0,   0,   0,   0,   0,   0,\n",
       "          0,   0],\n",
       "       [  0,   0,   0,   0,   0,   0,  18, 171, 219, 253, 253, 253, 253,\n",
       "        195,  80,   9,   0,   0,   0,   0,   0,   0,   0,   0,   0,   0,\n",
       "          0,   0],\n",
       "       [  0,   0,   0,   0,  55, 172, 226, 253, 253, 253, 253, 244, 133,\n",
       "         11,   0,   0,   0,   0,   0,   0,   0,   0,   0,   0,   0,   0,\n",
       "          0,   0],\n",
       "       [  0,   0,   0,   0, 136, 253, 253, 253, 212, 135, 132,  16,   0,\n",
       "          0,   0,   0,   0,   0,   0,   0,   0,   0,   0,   0,   0,   0,\n",
       "          0,   0],\n",
       "       [  0,   0,   0,   0,   0,   0,   0,   0,   0,   0,   0,   0,   0,\n",
       "          0,   0,   0,   0,   0,   0,   0,   0,   0,   0,   0,   0,   0,\n",
       "          0,   0],\n",
       "       [  0,   0,   0,   0,   0,   0,   0,   0,   0,   0,   0,   0,   0,\n",
       "          0,   0,   0,   0,   0,   0,   0,   0,   0,   0,   0,   0,   0,\n",
       "          0,   0],\n",
       "       [  0,   0,   0,   0,   0,   0,   0,   0,   0,   0,   0,   0,   0,\n",
       "          0,   0,   0,   0,   0,   0,   0,   0,   0,   0,   0,   0,   0,\n",
       "          0,   0]], dtype=uint8)"
      ]
     },
     "execution_count": 6,
     "metadata": {},
     "output_type": "execute_result"
    }
   ],
   "source": [
    "x_train[0]"
   ]
  },
  {
   "cell_type": "code",
   "execution_count": 7,
   "id": "acecdf1c",
   "metadata": {
    "id": "acecdf1c"
   },
   "outputs": [],
   "source": [
    "# converting it in the range of 0 to 1\n",
    "\n",
    "x_train = x_train.astype(\"float32\")/255\n",
    "x_test = x_test.astype(\"float32\")/255"
   ]
  },
  {
   "cell_type": "code",
   "execution_count": 8,
   "id": "05e52912",
   "metadata": {
    "id": "05e52912",
    "outputId": "dcfee41f-b217-42bb-96de-beb619583175"
   },
   "outputs": [
    {
     "data": {
      "text/plain": [
       "array([[[0., 0., 0., ..., 0., 0., 0.],\n",
       "        [0., 0., 0., ..., 0., 0., 0.],\n",
       "        [0., 0., 0., ..., 0., 0., 0.],\n",
       "        ...,\n",
       "        [0., 0., 0., ..., 0., 0., 0.],\n",
       "        [0., 0., 0., ..., 0., 0., 0.],\n",
       "        [0., 0., 0., ..., 0., 0., 0.]],\n",
       "\n",
       "       [[0., 0., 0., ..., 0., 0., 0.],\n",
       "        [0., 0., 0., ..., 0., 0., 0.],\n",
       "        [0., 0., 0., ..., 0., 0., 0.],\n",
       "        ...,\n",
       "        [0., 0., 0., ..., 0., 0., 0.],\n",
       "        [0., 0., 0., ..., 0., 0., 0.],\n",
       "        [0., 0., 0., ..., 0., 0., 0.]],\n",
       "\n",
       "       [[0., 0., 0., ..., 0., 0., 0.],\n",
       "        [0., 0., 0., ..., 0., 0., 0.],\n",
       "        [0., 0., 0., ..., 0., 0., 0.],\n",
       "        ...,\n",
       "        [0., 0., 0., ..., 0., 0., 0.],\n",
       "        [0., 0., 0., ..., 0., 0., 0.],\n",
       "        [0., 0., 0., ..., 0., 0., 0.]],\n",
       "\n",
       "       ...,\n",
       "\n",
       "       [[0., 0., 0., ..., 0., 0., 0.],\n",
       "        [0., 0., 0., ..., 0., 0., 0.],\n",
       "        [0., 0., 0., ..., 0., 0., 0.],\n",
       "        ...,\n",
       "        [0., 0., 0., ..., 0., 0., 0.],\n",
       "        [0., 0., 0., ..., 0., 0., 0.],\n",
       "        [0., 0., 0., ..., 0., 0., 0.]],\n",
       "\n",
       "       [[0., 0., 0., ..., 0., 0., 0.],\n",
       "        [0., 0., 0., ..., 0., 0., 0.],\n",
       "        [0., 0., 0., ..., 0., 0., 0.],\n",
       "        ...,\n",
       "        [0., 0., 0., ..., 0., 0., 0.],\n",
       "        [0., 0., 0., ..., 0., 0., 0.],\n",
       "        [0., 0., 0., ..., 0., 0., 0.]],\n",
       "\n",
       "       [[0., 0., 0., ..., 0., 0., 0.],\n",
       "        [0., 0., 0., ..., 0., 0., 0.],\n",
       "        [0., 0., 0., ..., 0., 0., 0.],\n",
       "        ...,\n",
       "        [0., 0., 0., ..., 0., 0., 0.],\n",
       "        [0., 0., 0., ..., 0., 0., 0.],\n",
       "        [0., 0., 0., ..., 0., 0., 0.]]], dtype=float32)"
      ]
     },
     "execution_count": 8,
     "metadata": {},
     "output_type": "execute_result"
    }
   ],
   "source": [
    "x_train"
   ]
  },
  {
   "cell_type": "code",
   "execution_count": 9,
   "id": "4055a042",
   "metadata": {
    "id": "4055a042"
   },
   "outputs": [],
   "source": [
    "# reshaping the training and testing data from 2D to 1D\n",
    "\n",
    "x_train = x_train.reshape((x_train.shape[0], 1*28*28))\n",
    "x_test = x_test.reshape((x_test.shape[0], 1*28*28))\n",
    "xtest=x_test.reshape((x_test.shape[0],28,28))"
   ]
  },
  {
   "cell_type": "code",
   "execution_count": 10,
   "id": "1bbfd6cb",
   "metadata": {
    "id": "1bbfd6cb",
    "outputId": "dab127be-ac8b-4cd3-a29a-a1d0cbdb6eec"
   },
   "outputs": [
    {
     "data": {
      "text/plain": [
       "(((60000, 784), (60000,)), ((10000, 784), (10000,)))"
      ]
     },
     "execution_count": 10,
     "metadata": {},
     "output_type": "execute_result"
    }
   ],
   "source": [
    "(x_train.shape, y_train.shape), (x_test.shape, y_test.shape)"
   ]
  },
  {
   "cell_type": "raw",
   "id": "12595371",
   "metadata": {
    "id": "1159cbff"
   },
   "source": [
    "c. Define network architecture using Keras"
   ]
  },
  {
   "cell_type": "code",
   "execution_count": 11,
   "id": "bcdb58a4",
   "metadata": {
    "id": "bcdb58a4"
   },
   "outputs": [
    {
     "name": "stderr",
     "output_type": "stream",
     "text": [
      "2023-10-09 14:44:32.148774: W tensorflow/stream_executor/platform/default/dso_loader.cc:64] Could not load dynamic library 'libcuda.so.1'; dlerror: libcuda.so.1: cannot open shared object file: No such file or directory\n",
      "2023-10-09 14:44:32.148916: W tensorflow/stream_executor/cuda/cuda_driver.cc:263] failed call to cuInit: UNKNOWN ERROR (303)\n",
      "2023-10-09 14:44:32.148926: I tensorflow/stream_executor/cuda/cuda_diagnostics.cc:156] kernel driver does not appear to be running on this host (student): /proc/driver/nvidia/version does not exist\n",
      "2023-10-09 14:44:32.149225: I tensorflow/core/platform/cpu_feature_guard.cc:193] This TensorFlow binary is optimized with oneAPI Deep Neural Network Library (oneDNN) to use the following CPU instructions in performance-critical operations:  AVX2 AVX_VNNI FMA\n",
      "To enable them in other operations, rebuild TensorFlow with the appropriate compiler flags.\n"
     ]
    }
   ],
   "source": [
    "model = Sequential()"
   ]
  },
  {
   "cell_type": "code",
   "execution_count": 12,
   "id": "d0301611",
   "metadata": {
    "id": "d0301611"
   },
   "outputs": [],
   "source": [
    "#first layer\n",
    "model.add(Dense(256, input_shape=(784,), activation='relu'))\n",
    "model.add(Dense(128, activation='relu'))\n",
    "model.add(Dense(32, activation='relu'))\n",
    "#last layer\n",
    "model.add(Dense(10, activation='sigmoid'))\n"
   ]
  },
  {
   "cell_type": "raw",
   "id": "35401c6b",
   "metadata": {
    "id": "2209bc87"
   },
   "source": [
    "d. Train the model using SGD"
   ]
  },
  {
   "cell_type": "code",
   "execution_count": 13,
   "id": "679708b5",
   "metadata": {
    "id": "679708b5"
   },
   "outputs": [],
   "source": [
    "model.compile(optimizer='sgd', loss='sparse_categorical_crossentropy', metrics=['accuracy'])"
   ]
  },
  {
   "cell_type": "code",
   "execution_count": 14,
   "id": "73e5e4c4",
   "metadata": {
    "id": "73e5e4c4",
    "outputId": "802bb2a6-4704-4b54-de3c-ecb3b3e107a3"
   },
   "outputs": [
    {
     "name": "stdout",
     "output_type": "stream",
     "text": [
      "Model: \"sequential\"\n",
      "_________________________________________________________________\n",
      " Layer (type)                Output Shape              Param #   \n",
      "=================================================================\n",
      " dense (Dense)               (None, 256)               200960    \n",
      "                                                                 \n",
      " dense_1 (Dense)             (None, 128)               32896     \n",
      "                                                                 \n",
      " dense_2 (Dense)             (None, 32)                4128      \n",
      "                                                                 \n",
      " dense_3 (Dense)             (None, 10)                330       \n",
      "                                                                 \n",
      "=================================================================\n",
      "Total params: 238,314\n",
      "Trainable params: 238,314\n",
      "Non-trainable params: 0\n",
      "_________________________________________________________________\n"
     ]
    }
   ],
   "source": [
    "model.summary()"
   ]
  },
  {
   "cell_type": "code",
   "execution_count": 15,
   "id": "5d8095c6",
   "metadata": {
    "id": "5d8095c6",
    "outputId": "05b57de6-0090-41a1-9a50-0e581ec80b0f"
   },
   "outputs": [
    {
     "name": "stdout",
     "output_type": "stream",
     "text": [
      "Epoch 1/30\n",
      "1688/1688 [==============================] - 3s 2ms/step - loss: 0.6694 - accuracy: 0.8153 - val_loss: 0.2696 - val_accuracy: 0.9230\n",
      "Epoch 2/30\n",
      "1688/1688 [==============================] - 2s 1ms/step - loss: 0.2736 - accuracy: 0.9201 - val_loss: 0.1915 - val_accuracy: 0.9465\n",
      "Epoch 3/30\n",
      "1688/1688 [==============================] - 3s 2ms/step - loss: 0.2127 - accuracy: 0.9381 - val_loss: 0.1641 - val_accuracy: 0.9545\n",
      "Epoch 4/30\n",
      "1688/1688 [==============================] - 3s 2ms/step - loss: 0.1740 - accuracy: 0.9486 - val_loss: 0.1332 - val_accuracy: 0.9623\n",
      "Epoch 5/30\n",
      "1688/1688 [==============================] - 2s 1ms/step - loss: 0.1485 - accuracy: 0.9564 - val_loss: 0.1236 - val_accuracy: 0.9668\n",
      "Epoch 6/30\n",
      "1688/1688 [==============================] - 3s 2ms/step - loss: 0.1281 - accuracy: 0.9625 - val_loss: 0.1093 - val_accuracy: 0.9693\n",
      "Epoch 7/30\n",
      "1688/1688 [==============================] - 3s 2ms/step - loss: 0.1136 - accuracy: 0.9663 - val_loss: 0.1067 - val_accuracy: 0.9708\n",
      "Epoch 8/30\n",
      "1688/1688 [==============================] - 3s 2ms/step - loss: 0.1001 - accuracy: 0.9708 - val_loss: 0.0935 - val_accuracy: 0.9745\n",
      "Epoch 9/30\n",
      "1688/1688 [==============================] - 3s 2ms/step - loss: 0.0894 - accuracy: 0.9734 - val_loss: 0.0935 - val_accuracy: 0.9737\n",
      "Epoch 10/30\n",
      "1688/1688 [==============================] - 3s 2ms/step - loss: 0.0808 - accuracy: 0.9760 - val_loss: 0.0867 - val_accuracy: 0.9768\n",
      "Epoch 11/30\n",
      "1688/1688 [==============================] - 3s 2ms/step - loss: 0.0732 - accuracy: 0.9782 - val_loss: 0.0914 - val_accuracy: 0.9743\n",
      "Epoch 12/30\n",
      "1688/1688 [==============================] - 2s 1ms/step - loss: 0.0665 - accuracy: 0.9803 - val_loss: 0.0848 - val_accuracy: 0.9755\n",
      "Epoch 13/30\n",
      "1688/1688 [==============================] - 2s 1ms/step - loss: 0.0603 - accuracy: 0.9826 - val_loss: 0.0809 - val_accuracy: 0.9787\n",
      "Epoch 14/30\n",
      "1688/1688 [==============================] - 3s 2ms/step - loss: 0.0549 - accuracy: 0.9844 - val_loss: 0.0758 - val_accuracy: 0.9778\n",
      "Epoch 15/30\n",
      "1688/1688 [==============================] - 3s 2ms/step - loss: 0.0498 - accuracy: 0.9855 - val_loss: 0.0789 - val_accuracy: 0.9775\n",
      "Epoch 16/30\n",
      "1688/1688 [==============================] - 3s 2ms/step - loss: 0.0457 - accuracy: 0.9874 - val_loss: 0.0855 - val_accuracy: 0.9755\n",
      "Epoch 17/30\n",
      "1688/1688 [==============================] - 3s 2ms/step - loss: 0.0417 - accuracy: 0.9888 - val_loss: 0.0807 - val_accuracy: 0.9770\n",
      "Epoch 18/30\n",
      "1688/1688 [==============================] - 3s 2ms/step - loss: 0.0374 - accuracy: 0.9901 - val_loss: 0.0747 - val_accuracy: 0.9785\n",
      "Epoch 19/30\n",
      "1688/1688 [==============================] - 3s 2ms/step - loss: 0.0340 - accuracy: 0.9915 - val_loss: 0.0787 - val_accuracy: 0.9780\n",
      "Epoch 20/30\n",
      "1688/1688 [==============================] - 2s 1ms/step - loss: 0.0313 - accuracy: 0.9920 - val_loss: 0.0766 - val_accuracy: 0.9787\n",
      "Epoch 21/30\n",
      "1688/1688 [==============================] - 3s 2ms/step - loss: 0.0284 - accuracy: 0.9930 - val_loss: 0.0765 - val_accuracy: 0.9798\n",
      "Epoch 22/30\n",
      "1688/1688 [==============================] - 3s 2ms/step - loss: 0.0257 - accuracy: 0.9934 - val_loss: 0.0765 - val_accuracy: 0.9800\n",
      "Epoch 23/30\n",
      "1688/1688 [==============================] - 3s 2ms/step - loss: 0.0233 - accuracy: 0.9946 - val_loss: 0.0757 - val_accuracy: 0.9795\n",
      "Epoch 24/30\n",
      "1688/1688 [==============================] - 3s 2ms/step - loss: 0.0217 - accuracy: 0.9954 - val_loss: 0.0763 - val_accuracy: 0.9787\n",
      "Epoch 25/30\n",
      "1688/1688 [==============================] - 3s 2ms/step - loss: 0.0196 - accuracy: 0.9959 - val_loss: 0.0782 - val_accuracy: 0.9788\n",
      "Epoch 26/30\n",
      "1688/1688 [==============================] - 2s 1ms/step - loss: 0.0180 - accuracy: 0.9964 - val_loss: 0.0840 - val_accuracy: 0.9775\n",
      "Epoch 27/30\n",
      "1688/1688 [==============================] - 2s 1ms/step - loss: 0.0161 - accuracy: 0.9969 - val_loss: 0.0811 - val_accuracy: 0.9790\n",
      "Epoch 28/30\n",
      "1688/1688 [==============================] - 2s 1ms/step - loss: 0.0147 - accuracy: 0.9974 - val_loss: 0.0791 - val_accuracy: 0.9800\n",
      "Epoch 29/30\n",
      "1688/1688 [==============================] - 2s 1ms/step - loss: 0.0134 - accuracy: 0.9975 - val_loss: 0.0846 - val_accuracy: 0.9768\n",
      "Epoch 30/30\n",
      "1688/1688 [==============================] - 3s 2ms/step - loss: 0.0121 - accuracy: 0.9983 - val_loss: 0.0808 - val_accuracy: 0.9800\n"
     ]
    }
   ],
   "source": [
    "trained_MNIST = model.fit(x_train, y_train, validation_split = 0.1, epochs=30)"
   ]
  },
  {
   "cell_type": "raw",
   "id": "92142802",
   "metadata": {
    "id": "46444e3f"
   },
   "source": [
    "e. Evaluate the network"
   ]
  },
  {
   "cell_type": "code",
   "execution_count": 16,
   "id": "c3456c88",
   "metadata": {
    "id": "c3456c88",
    "outputId": "27ec9b46-c9e1-40c8-881a-87a62078bfc0"
   },
   "outputs": [
    {
     "name": "stdout",
     "output_type": "stream",
     "text": [
      "313/313 [==============================] - 0s 523us/step - loss: 0.0735 - accuracy: 0.9781\n",
      "0.07349995523691177\n",
      "0.9781000018119812\n"
     ]
    }
   ],
   "source": [
    "test_loss, accuracy = model.evaluate(x_test, y_test)\n",
    "print(test_loss)\n",
    "print(accuracy)"
   ]
  },
  {
   "cell_type": "code",
   "execution_count": 17,
   "id": "c53b1f93",
   "metadata": {
    "id": "c53b1f93",
    "outputId": "391dbf13-b862-4f87-930e-28be42ba22b2"
   },
   "outputs": [
    {
     "name": "stdout",
     "output_type": "stream",
     "text": [
      "313/313 [==============================] - 0s 430us/step\n"
     ]
    }
   ],
   "source": [
    "y_pred = model.predict(x_test)"
   ]
  },
  {
   "cell_type": "code",
   "execution_count": 18,
   "id": "7c4e1aa0",
   "metadata": {
    "id": "7c4e1aa0",
    "outputId": "2a76f7ab-46a0-4cc0-eae3-ae9ac898000d"
   },
   "outputs": [
    {
     "data": {
      "text/plain": [
       "array([[1.4863758e-01, 9.4600357e-02, 9.8759747e-01, ..., 9.9999994e-01,\n",
       "        5.7937622e-01, 9.5436132e-01],\n",
       "       [9.3989772e-01, 9.9964553e-01, 1.0000000e+00, ..., 5.7886174e-04,\n",
       "        9.9134469e-01, 2.0869309e-06],\n",
       "       [4.1509204e-02, 9.9996030e-01, 7.3901147e-01, ..., 9.1466659e-01,\n",
       "        9.2929018e-01, 2.6943278e-02],\n",
       "       ...,\n",
       "       [7.8683166e-05, 6.4728723e-04, 1.9064569e-07, ..., 9.9777257e-01,\n",
       "        9.8508090e-01, 9.9913353e-01],\n",
       "       [5.0203665e-03, 5.5007309e-02, 9.2836191e-05, ..., 3.9552644e-02,\n",
       "        9.9992657e-01, 2.0078400e-03],\n",
       "       [9.9406314e-01, 3.7734038e-03, 9.8050731e-01, ..., 3.1264226e-05,\n",
       "        2.9761910e-03, 2.3940069e-04]], dtype=float32)"
      ]
     },
     "execution_count": 18,
     "metadata": {},
     "output_type": "execute_result"
    }
   ],
   "source": [
    "y_pred"
   ]
  },
  {
   "cell_type": "code",
   "execution_count": 19,
   "id": "ebdfd1f2",
   "metadata": {
    "id": "ebdfd1f2",
    "outputId": "5be7da38-f731-4139-a26d-83602c819e3e"
   },
   "outputs": [
    {
     "data": {
      "text/plain": [
       "array([7, 2, 1, ..., 4, 5, 6], dtype=uint8)"
      ]
     },
     "execution_count": 19,
     "metadata": {},
     "output_type": "execute_result"
    }
   ],
   "source": [
    "y_test"
   ]
  },
  {
   "cell_type": "code",
   "execution_count": 20,
   "id": "90798532",
   "metadata": {
    "id": "90798532",
    "outputId": "e42d7d54-1cce-4032-8aec-7b6c496f04f6"
   },
   "outputs": [
    {
     "data": {
      "text/plain": [
       "<matplotlib.image.AxesImage at 0x7f7e87053ee0>"
      ]
     },
     "execution_count": 20,
     "metadata": {},
     "output_type": "execute_result"
    },
    {
     "data": {
      "image/png": "[encoded data removed]",
      "text/plain": [
       "<Figure size 432x288 with 1 Axes>"
      ]
     },
     "metadata": {
      "needs_background": "light"
     },
     "output_type": "display_data"
    }
   ],
   "source": [
    "import random \n",
    "for i in range(0,9):\n",
    "    r =random.randint(0,100)\n",
    "#r=0\n",
    "plt.imshow(xtest[r])"
   ]
  },
  {
   "cell_type": "code",
   "execution_count": 21,
   "id": "751c31e8",
   "metadata": {
    "id": "751c31e8"
   },
   "outputs": [],
   "source": [
    "pred = np.argmax(y_pred, axis=1)"
   ]
  },
  {
   "cell_type": "code",
   "execution_count": 22,
   "id": "2e270c9a",
   "metadata": {
    "id": "2e270c9a",
    "outputId": "ad12f03c-62f1-44c6-ace6-8608c60c4d82"
   },
   "outputs": [
    {
     "data": {
      "text/plain": [
       "array([7, 2, 1, ..., 4, 5, 6])"
      ]
     },
     "execution_count": 22,
     "metadata": {},
     "output_type": "execute_result"
    }
   ],
   "source": [
    "pred"
   ]
  },
  {
   "cell_type": "code",
   "execution_count": 23,
   "id": "5a561743",
   "metadata": {
    "id": "5a561743",
    "outputId": "2c7347e9-f5dd-4891-91ed-3f945ade5a71"
   },
   "outputs": [
    {
     "name": "stdout",
     "output_type": "stream",
     "text": [
      "\n",
      " The Classification report is \n",
      "\n",
      "              precision    recall  f1-score   support\n",
      "\n",
      "           0       0.98      0.99      0.98       980\n",
      "           1       0.99      0.99      0.99      1135\n",
      "           2       0.98      0.97      0.98      1032\n",
      "           3       0.96      0.97      0.97      1010\n",
      "           4       0.98      0.98      0.98       982\n",
      "           5       0.98      0.95      0.96       892\n",
      "           6       0.97      0.99      0.98       958\n",
      "           7       0.98      0.98      0.98      1028\n",
      "           8       0.97      0.97      0.97       974\n",
      "           9       0.98      0.97      0.97      1009\n",
      "\n",
      "    accuracy                           0.98     10000\n",
      "   macro avg       0.98      0.98      0.98     10000\n",
      "weighted avg       0.98      0.98      0.98     10000\n",
      "\n",
      "\n",
      " The Confusion Matrix is \n",
      "\n",
      "[[ 969    0    0    1    1    2    4    1    2    0]\n",
      " [   0 1126    2    1    0    1    3    0    2    0]\n",
      " [   4    1 1006    2    4    0    4    4    7    0]\n",
      " [   0    0    8  980    0    5    0    4    7    6]\n",
      " [   1    0    1    0  962    0    5    3    1    9]\n",
      " [   3    0    0   25    0  846    9    2    4    3]\n",
      " [   5    1    1    0    3    3  945    0    0    0]\n",
      " [   2    5    4    2    0    1    1 1009    3    1]\n",
      " [   4    1    2    5    3    5    5    2  943    4]\n",
      " [   4    2    1    4    9    1    1    6    1  980]]\n"
     ]
    }
   ],
   "source": [
    "print(\"\\n The Classification report is \\n\")\n",
    "print(classification_report(y_test, pred))\n",
    "print(\"\\n The Confusion Matrix is \\n\")\n",
    "print(confusion_matrix(y_test, pred))"
   ]
  },
  {
   "cell_type": "code",
   "execution_count": 24,
   "id": "cccb1b6b",
   "metadata": {
    "id": "cccb1b6b",
    "outputId": "2490f1eb-e6e4-4303-9c3c-24f6560b196a"
   },
   "outputs": [
    {
     "data": {
      "image/png": "[encoded data removed]",
      "text/plain": [
       "<Figure size 1080x720 with 2 Axes>"
      ]
     },
     "metadata": {
      "needs_background": "light"
     },
     "output_type": "display_data"
    }
   ],
   "source": [
    "accuracy = trained_MNIST.history['accuracy']\n",
    "val_accuracy  = trained_MNIST.history['val_accuracy']\n",
    "\n",
    "loss = trained_MNIST.history['loss']\n",
    "val_loss = trained_MNIST.history['val_loss']\n",
    "\n",
    "plt.figure(figsize=(15,10))\n",
    "\n",
    "plt.subplot(2, 2, 1)\n",
    "plt.plot(accuracy, label = \"Training accuracy\")\n",
    "plt.plot(val_accuracy, label=\"Validation accuracy\")\n",
    "plt.legend()\n",
    "plt.title(\"Training vs validation accuracy\")\n",
    "\n",
    "\n",
    "plt.subplot(2,2,2)\n",
    "plt.plot(loss, label = \"Training loss\")\n",
    "plt.plot(val_loss, label=\"Validation loss\")\n",
    "plt.legend()\n",
    "plt.title(\"Training vs validation loss\")\n",
    "\n",
    "plt.show()"
   ]
  },
  {
   "cell_type": "code",
   "execution_count": null,
   "id": "660603b5",
   "metadata": {
    "id": "660603b5"
   },
   "outputs": [],
   "source": []
  },
  {
   "cell_type": "code",
   "execution_count": null,
   "id": "f4a6d3ba",
   "metadata": {
    "id": "f4a6d3ba"
   },
   "outputs": [],
   "source": []
  },
  {
   "cell_type": "code",
   "execution_count": null,
   "id": "c76c123b",
   "metadata": {
    "id": "c76c123b"
   },
   "outputs": [],
   "source": []
  }
 ],
 "metadata": {
  "colab": {
   "provenance": []
  },
  "kernelspec": {
   "display_name": "Python 3 (ipykernel)",
   "language": "python",
   "name": "python3"
  },
  "language_info": {
   "codemirror_mode": {
    "name": "ipython",
    "version": 3
   },
   "file_extension": ".py",
   "mimetype": "text/x-python",
   "name": "python",
   "nbconvert_exporter": "python",
   "pygments_lexer": "ipython3",
   "version": "3.10.12"
  }
 },
 "nbformat": 4,
 "nbformat_minor": 5
}
