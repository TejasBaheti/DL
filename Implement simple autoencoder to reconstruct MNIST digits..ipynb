{
  "nbformat": 4,
  "nbformat_minor": 0,
  "metadata": {
    "colab": {
      "provenance": []
    },
    "kernelspec": {
      "name": "python3",
      "display_name": "Python 3"
    },
    "language_info": {
      "name": "python"
    }
  },
  "cells": [
    {
      "cell_type": "code",
      "execution_count": 1,
      "metadata": {
        "id": "94LRq_nBgXH4"
      },
      "outputs": [],
      "source": [
        "import tensorflow as tf\n",
        "import numpy as np\n",
        "import pandas as pd\n",
        "import matplotlib.pyplot as plt\n",
        "import os"
      ]
    },
    {
      "cell_type": "code",
      "source": [
        "def load_data(path):\n",
        "    with np.load(path) as f:\n",
        "        x_train, y_train = f['x_train'], f['y_train']\n",
        "        x_test, y_test = f['x_test'], f['y_test']\n",
        "        return (x_train, y_train), (x_test, y_test)"
      ],
      "metadata": {
        "id": "ycJnFJdsgx_k"
      },
      "execution_count": 2,
      "outputs": []
    },
    {
      "cell_type": "code",
      "source": [
        "# we will start simple with a single fully-connected neural layer as encoder and decoder\n",
        "# this is the siez of our encoded representations\n",
        "ENCODING_DIM = 32\n",
        "\n",
        "# input placeholder\n",
        "input_img = tf.keras.layers.Input(shape=(784,))\n",
        "\n",
        "# this is the encoded representation of the input\n",
        "encoded = tf.keras.layers.Dense(ENCODING_DIM, activation='relu')(input_img)\n",
        "\n",
        "# this is the loss reconstruction of the input\n",
        "decoded = tf.keras.layers.Dense(784, activation='sigmoid')(encoded)\n",
        "\n",
        "# this model maps an input to its recommendation\n",
        "autoencoder = tf.keras.models.Model(input_img, decoded)\n"
      ],
      "metadata": {
        "id": "1HtmORmWg8GX"
      },
      "execution_count": 3,
      "outputs": []
    },
    {
      "cell_type": "code",
      "source": [
        "encoder = tf.keras.models.Model(input_img, encoded)"
      ],
      "metadata": {
        "id": "tngMlhKMhBvz"
      },
      "execution_count": 4,
      "outputs": []
    },
    {
      "cell_type": "code",
      "source": [
        "encoded_input = tf.keras.layers.Input(shape=(ENCODING_DIM,))\n",
        "\n",
        "# retrieve the last layer of the autoencoder model\n",
        "decoder_layer = autoencoder.layers[-1]\n",
        "\n",
        "# create the decoder model\n",
        "decoder = tf.keras.models.Model(encoded_input, decoder_layer(encoded_input))\n"
      ],
      "metadata": {
        "id": "ZUgPJr-lhF7g"
      },
      "execution_count": 5,
      "outputs": []
    },
    {
      "cell_type": "code",
      "source": [
        "autoencoder.compile(optimizer='adadelta', loss='binary_crossentropy')\n"
      ],
      "metadata": {
        "id": "415HMpxfhRux"
      },
      "execution_count": 6,
      "outputs": []
    },
    {
      "cell_type": "code",
      "source": [
        "from keras.datasets import mnist\n",
        "(x_train, y_train), (x_test, y_test) = mnist.load_data()\n"
      ],
      "metadata": {
        "id": "BOHAVBV-hVQp"
      },
      "execution_count": 21,
      "outputs": []
    },
    {
      "cell_type": "code",
      "source": [
        "x_train = x_train.astype('float32') / 255\n",
        "x_test = x_test.astype('float32') / 255\n",
        "x_train = x_train.reshape((len(x_train), np.prod(x_train.shape[1:])))\n",
        "x_test = x_test.reshape((len(x_test), np.prod(x_test.shape[1:])))\n",
        "print(x_train.shape)\n",
        "print(x_test.shape)"
      ],
      "metadata": {
        "colab": {
          "base_uri": "https://localhost:8080/"
        },
        "id": "ZWLpU22phZpJ",
        "outputId": "9d75bfb6-7604-46d5-e2b7-2d13085f1a87"
      },
      "execution_count": 22,
      "outputs": [
        {
          "output_type": "stream",
          "name": "stdout",
          "text": [
            "(60000, 784)\n",
            "(10000, 784)\n"
          ]
        }
      ]
    },
    {
      "cell_type": "code",
      "source": [
        "autoencoder.fit(x_train, x_train, epochs=50, batch_size=256, shuffle=True, validation_data=(x_test, x_test))"
      ],
      "metadata": {
        "colab": {
          "base_uri": "https://localhost:8080/"
        },
        "id": "fJ1jtrpqk7Fs",
        "outputId": "c7441d7c-7bc2-4e02-ec41-2b416e732be6"
      },
      "execution_count": 23,
      "outputs": [
        {
          "output_type": "stream",
          "name": "stdout",
          "text": [
            "Epoch 1/50\n",
            "235/235 [==============================] - 6s 20ms/step - loss: 0.6952 - val_loss: 0.6951\n",
            "Epoch 2/50\n",
            "235/235 [==============================] - 3s 11ms/step - loss: 0.6950 - val_loss: 0.6949\n",
            "Epoch 3/50\n",
            "235/235 [==============================] - 3s 11ms/step - loss: 0.6948 - val_loss: 0.6947\n",
            "Epoch 4/50\n",
            "235/235 [==============================] - 2s 10ms/step - loss: 0.6946 - val_loss: 0.6946\n",
            "Epoch 5/50\n",
            "235/235 [==============================] - 3s 12ms/step - loss: 0.6944 - val_loss: 0.6944\n",
            "Epoch 6/50\n",
            "235/235 [==============================] - 3s 14ms/step - loss: 0.6943 - val_loss: 0.6942\n",
            "Epoch 7/50\n",
            "235/235 [==============================] - 3s 12ms/step - loss: 0.6941 - val_loss: 0.6941\n",
            "Epoch 8/50\n",
            "235/235 [==============================] - 2s 10ms/step - loss: 0.6939 - val_loss: 0.6939\n",
            "Epoch 9/50\n",
            "235/235 [==============================] - 3s 11ms/step - loss: 0.6938 - val_loss: 0.6937\n",
            "Epoch 10/50\n",
            "235/235 [==============================] - 3s 14ms/step - loss: 0.6936 - val_loss: 0.6936\n",
            "Epoch 11/50\n",
            "235/235 [==============================] - 2s 11ms/step - loss: 0.6934 - val_loss: 0.6934\n",
            "Epoch 12/50\n",
            "235/235 [==============================] - 3s 11ms/step - loss: 0.6933 - val_loss: 0.6932\n",
            "Epoch 13/50\n",
            "235/235 [==============================] - 3s 11ms/step - loss: 0.6931 - val_loss: 0.6931\n",
            "Epoch 14/50\n",
            "235/235 [==============================] - 2s 10ms/step - loss: 0.6930 - val_loss: 0.6929\n",
            "Epoch 15/50\n",
            "235/235 [==============================] - 4s 15ms/step - loss: 0.6928 - val_loss: 0.6928\n",
            "Epoch 16/50\n",
            "235/235 [==============================] - 3s 15ms/step - loss: 0.6927 - val_loss: 0.6926\n",
            "Epoch 17/50\n",
            "235/235 [==============================] - 3s 11ms/step - loss: 0.6925 - val_loss: 0.6925\n",
            "Epoch 18/50\n",
            "235/235 [==============================] - 3s 11ms/step - loss: 0.6924 - val_loss: 0.6923\n",
            "Epoch 19/50\n",
            "235/235 [==============================] - 4s 15ms/step - loss: 0.6922 - val_loss: 0.6922\n",
            "Epoch 20/50\n",
            "235/235 [==============================] - 3s 11ms/step - loss: 0.6921 - val_loss: 0.6920\n",
            "Epoch 21/50\n",
            "235/235 [==============================] - 2s 10ms/step - loss: 0.6919 - val_loss: 0.6918\n",
            "Epoch 22/50\n",
            "235/235 [==============================] - 3s 12ms/step - loss: 0.6918 - val_loss: 0.6917\n",
            "Epoch 23/50\n",
            "235/235 [==============================] - 3s 12ms/step - loss: 0.6916 - val_loss: 0.6915\n",
            "Epoch 24/50\n",
            "235/235 [==============================] - 3s 13ms/step - loss: 0.6914 - val_loss: 0.6914\n",
            "Epoch 25/50\n",
            "235/235 [==============================] - 3s 11ms/step - loss: 0.6913 - val_loss: 0.6912\n",
            "Epoch 26/50\n",
            "235/235 [==============================] - 3s 12ms/step - loss: 0.6911 - val_loss: 0.6911\n",
            "Epoch 27/50\n",
            "235/235 [==============================] - 2s 10ms/step - loss: 0.6910 - val_loss: 0.6909\n",
            "Epoch 28/50\n",
            "235/235 [==============================] - 3s 13ms/step - loss: 0.6908 - val_loss: 0.6908\n",
            "Epoch 29/50\n",
            "235/235 [==============================] - 3s 12ms/step - loss: 0.6907 - val_loss: 0.6906\n",
            "Epoch 30/50\n",
            "235/235 [==============================] - 2s 10ms/step - loss: 0.6905 - val_loss: 0.6905\n",
            "Epoch 31/50\n",
            "235/235 [==============================] - 3s 12ms/step - loss: 0.6904 - val_loss: 0.6903\n",
            "Epoch 32/50\n",
            "235/235 [==============================] - 2s 10ms/step - loss: 0.6902 - val_loss: 0.6902\n",
            "Epoch 33/50\n",
            "235/235 [==============================] - 3s 15ms/step - loss: 0.6901 - val_loss: 0.6900\n",
            "Epoch 34/50\n",
            "235/235 [==============================] - 2s 10ms/step - loss: 0.6899 - val_loss: 0.6898\n",
            "Epoch 35/50\n",
            "235/235 [==============================] - 3s 11ms/step - loss: 0.6897 - val_loss: 0.6897\n",
            "Epoch 36/50\n",
            "235/235 [==============================] - 3s 11ms/step - loss: 0.6896 - val_loss: 0.6895\n",
            "Epoch 37/50\n",
            "235/235 [==============================] - 3s 11ms/step - loss: 0.6894 - val_loss: 0.6893\n",
            "Epoch 38/50\n",
            "235/235 [==============================] - 3s 14ms/step - loss: 0.6892 - val_loss: 0.6892\n",
            "Epoch 39/50\n",
            "235/235 [==============================] - 2s 9ms/step - loss: 0.6891 - val_loss: 0.6890\n",
            "Epoch 40/50\n",
            "235/235 [==============================] - 3s 12ms/step - loss: 0.6889 - val_loss: 0.6888\n",
            "Epoch 41/50\n",
            "235/235 [==============================] - 3s 11ms/step - loss: 0.6887 - val_loss: 0.6887\n",
            "Epoch 42/50\n",
            "235/235 [==============================] - 2s 10ms/step - loss: 0.6886 - val_loss: 0.6885\n",
            "Epoch 43/50\n",
            "235/235 [==============================] - 4s 15ms/step - loss: 0.6884 - val_loss: 0.6883\n",
            "Epoch 44/50\n",
            "235/235 [==============================] - 2s 9ms/step - loss: 0.6882 - val_loss: 0.6881\n",
            "Epoch 45/50\n",
            "235/235 [==============================] - 2s 10ms/step - loss: 0.6880 - val_loss: 0.6879\n",
            "Epoch 46/50\n",
            "235/235 [==============================] - 2s 10ms/step - loss: 0.6878 - val_loss: 0.6877\n",
            "Epoch 47/50\n",
            "235/235 [==============================] - 2s 9ms/step - loss: 0.6876 - val_loss: 0.6875\n",
            "Epoch 48/50\n",
            "235/235 [==============================] - 3s 15ms/step - loss: 0.6875 - val_loss: 0.6873\n",
            "Epoch 49/50\n",
            "235/235 [==============================] - 2s 10ms/step - loss: 0.6873 - val_loss: 0.6871\n",
            "Epoch 50/50\n",
            "235/235 [==============================] - 2s 10ms/step - loss: 0.6871 - val_loss: 0.6869\n"
          ]
        },
        {
          "output_type": "execute_result",
          "data": {
            "text/plain": [
              "<keras.src.callbacks.History at 0x78f2475789d0>"
            ]
          },
          "metadata": {},
          "execution_count": 23
        }
      ]
    },
    {
      "cell_type": "code",
      "source": [
        "encoded_imgs = encoder.predict(x_test)\n",
        "decoded_imgs = decoder.predict(encoded_imgs)"
      ],
      "metadata": {
        "colab": {
          "base_uri": "https://localhost:8080/"
        },
        "id": "q94LgCogl2ei",
        "outputId": "0829906d-e64a-4481-b010-43e1d103a693"
      },
      "execution_count": 24,
      "outputs": [
        {
          "output_type": "stream",
          "name": "stdout",
          "text": [
            "313/313 [==============================] - 1s 3ms/step\n",
            "313/313 [==============================] - 0s 1ms/step\n"
          ]
        }
      ]
    },
    {
      "cell_type": "code",
      "source": [
        "n = 10 # how many images we will display\n",
        "plt.figure(figsize=(20, 4))\n",
        "for i in range(n):\n",
        "    # display original\n",
        "    ax = plt.subplot(2, n, i + 1)\n",
        "    plt.imshow(x_test[i].reshape(28, 28))\n",
        "    plt.gray()\n",
        "    ax.get_xaxis().set_visible(False)\n",
        "    ax.get_yaxis().set_visible(False)\n",
        "\n",
        "    # display reconstruction\n",
        "    ax = plt.subplot(2, n, i + 1 + n)\n",
        "    plt.imshow(decoded_imgs[i].reshape(28, 28))\n",
        "    plt.gray()\n",
        "    ax.get_xaxis().set_visible(False)\n",
        "    ax.get_yaxis().set_visible(False)\n",
        "\n",
        "plt.show()\n"
      ],
      "metadata": {
        "colab": {
          "base_uri": "https://localhost:8080/",
          "height": 243
        },
        "id": "wx5vqd-Dl3Gt",
        "outputId": "1f9f67bd-4091-47aa-de05-cfb616436de1"
      },
      "execution_count": 26,
      "outputs": [
        {
          "output_type": "display_data",
          "data": {
            "text/plain": [
              "<Figure size 2000x400 with 20 Axes>"
            ],
            "image/png": "[encoded data removed]"
          },
          "metadata": {}
        }
      ]
    },
    {
      "cell_type": "markdown",
      "source": [
        "Adding a sparsity constraint on the encoded representations\n",
        "way to constain the representation to be compact is to add a sparsity constraint on the activity of the hiddne representations, so fewer units would \"fire\" at a given time. We can do this by adding activity_regularizer to our Dense layer."
      ],
      "metadata": {
        "id": "CL-vB0GRnMmZ"
      }
    },
    {
      "cell_type": "code",
      "source": [
        "ENCODING_DIM = 32\n",
        "\n",
        "input_img = tf.keras.layers.Input(shape=(784,))\n",
        "\n",
        "# add a dense layer with L1 activity regularizer\n",
        "encoded = tf.keras.layers.Dense(ENCODING_DIM, activation='relu', activity_regularizer=tf.keras.regularizers.l1(10e-5))(input_img)\n",
        "decoded = tf.keras.layers.Dense(784, activation='sigmoid')(encoded)\n",
        "autoencoder = tf.keras.models.Model(input_img, decoded)\n",
        "autoencoder.compile(optimizer='adadelta', loss='binary_crossentropy')\n",
        "\n",
        "# now let's train this for 100 epochs (with added regularization, the model is less likely to overfit and can be trained longer). The model ends with a train loss of 0.11 and test loss of 0.10. The difference is mostly due to the regularization term being added to the loss during training\n",
        "autoencoder.fit(x_train, x_train, epochs=100, batch_size=256, shuffle=True, validation_data=(x_test, x_test))"
      ],
      "metadata": {
        "colab": {
          "base_uri": "https://localhost:8080/"
        },
        "id": "_lh-ZqL8l9kb",
        "outputId": "d80d48e6-5820-4768-eafb-b1325eb64681"
      },
      "execution_count": 27,
      "outputs": [
        {
          "output_type": "stream",
          "name": "stdout",
          "text": [
            "Epoch 1/100\n",
            "235/235 [==============================] - 4s 15ms/step - loss: 0.6947 - val_loss: 0.6946\n",
            "Epoch 2/100\n",
            "235/235 [==============================] - 2s 9ms/step - loss: 0.6945 - val_loss: 0.6944\n",
            "Epoch 3/100\n",
            "235/235 [==============================] - 2s 10ms/step - loss: 0.6943 - val_loss: 0.6942\n",
            "Epoch 4/100\n",
            "235/235 [==============================] - 3s 12ms/step - loss: 0.6941 - val_loss: 0.6940\n",
            "Epoch 5/100\n",
            "235/235 [==============================] - 2s 10ms/step - loss: 0.6939 - val_loss: 0.6939\n",
            "Epoch 6/100\n",
            "235/235 [==============================] - 3s 14ms/step - loss: 0.6938 - val_loss: 0.6937\n",
            "Epoch 7/100\n",
            "235/235 [==============================] - 2s 11ms/step - loss: 0.6936 - val_loss: 0.6935\n",
            "Epoch 8/100\n",
            "235/235 [==============================] - 3s 11ms/step - loss: 0.6934 - val_loss: 0.6933\n",
            "Epoch 9/100\n",
            "235/235 [==============================] - 3s 11ms/step - loss: 0.6932 - val_loss: 0.6931\n",
            "Epoch 10/100\n",
            "235/235 [==============================] - 2s 10ms/step - loss: 0.6931 - val_loss: 0.6930\n",
            "Epoch 11/100\n",
            "235/235 [==============================] - 3s 14ms/step - loss: 0.6929 - val_loss: 0.6928\n",
            "Epoch 12/100\n",
            "235/235 [==============================] - 3s 11ms/step - loss: 0.6927 - val_loss: 0.6926\n",
            "Epoch 13/100\n",
            "235/235 [==============================] - 3s 12ms/step - loss: 0.6925 - val_loss: 0.6924\n",
            "Epoch 14/100\n",
            "235/235 [==============================] - 3s 11ms/step - loss: 0.6923 - val_loss: 0.6922\n",
            "Epoch 15/100\n",
            "235/235 [==============================] - 3s 13ms/step - loss: 0.6922 - val_loss: 0.6921\n",
            "Epoch 16/100\n",
            "235/235 [==============================] - 3s 11ms/step - loss: 0.6920 - val_loss: 0.6919\n",
            "Epoch 17/100\n",
            "235/235 [==============================] - 2s 11ms/step - loss: 0.6918 - val_loss: 0.6917\n",
            "Epoch 18/100\n",
            "235/235 [==============================] - 2s 10ms/step - loss: 0.6916 - val_loss: 0.6915\n",
            "Epoch 19/100\n",
            "235/235 [==============================] - 3s 11ms/step - loss: 0.6915 - val_loss: 0.6914\n",
            "Epoch 20/100\n",
            "235/235 [==============================] - 4s 18ms/step - loss: 0.6913 - val_loss: 0.6912\n",
            "Epoch 21/100\n",
            "235/235 [==============================] - 4s 16ms/step - loss: 0.6911 - val_loss: 0.6910\n",
            "Epoch 22/100\n",
            "235/235 [==============================] - 3s 11ms/step - loss: 0.6909 - val_loss: 0.6908\n",
            "Epoch 23/100\n",
            "235/235 [==============================] - 3s 11ms/step - loss: 0.6908 - val_loss: 0.6906\n",
            "Epoch 24/100\n",
            "235/235 [==============================] - 4s 16ms/step - loss: 0.6906 - val_loss: 0.6904\n",
            "Epoch 25/100\n",
            "235/235 [==============================] - 3s 12ms/step - loss: 0.6904 - val_loss: 0.6903\n",
            "Epoch 26/100\n",
            "235/235 [==============================] - 4s 16ms/step - loss: 0.6902 - val_loss: 0.6901\n",
            "Epoch 27/100\n",
            "235/235 [==============================] - 3s 11ms/step - loss: 0.6900 - val_loss: 0.6899\n",
            "Epoch 28/100\n",
            "235/235 [==============================] - 3s 14ms/step - loss: 0.6898 - val_loss: 0.6897\n",
            "Epoch 29/100\n",
            "235/235 [==============================] - 3s 11ms/step - loss: 0.6896 - val_loss: 0.6895\n",
            "Epoch 30/100\n",
            "235/235 [==============================] - 2s 10ms/step - loss: 0.6894 - val_loss: 0.6893\n",
            "Epoch 31/100\n",
            "235/235 [==============================] - 2s 11ms/step - loss: 0.6892 - val_loss: 0.6891\n",
            "Epoch 32/100\n",
            "235/235 [==============================] - 2s 10ms/step - loss: 0.6890 - val_loss: 0.6889\n",
            "Epoch 33/100\n",
            "235/235 [==============================] - 4s 15ms/step - loss: 0.6888 - val_loss: 0.6887\n",
            "Epoch 34/100\n",
            "235/235 [==============================] - 2s 9ms/step - loss: 0.6886 - val_loss: 0.6885\n",
            "Epoch 35/100\n",
            "235/235 [==============================] - 2s 10ms/step - loss: 0.6884 - val_loss: 0.6883\n",
            "Epoch 36/100\n",
            "235/235 [==============================] - 3s 14ms/step - loss: 0.6882 - val_loss: 0.6880\n",
            "Epoch 37/100\n",
            "235/235 [==============================] - 2s 10ms/step - loss: 0.6880 - val_loss: 0.6878\n",
            "Epoch 38/100\n",
            "235/235 [==============================] - 3s 13ms/step - loss: 0.6878 - val_loss: 0.6876\n",
            "Epoch 39/100\n",
            "235/235 [==============================] - 2s 10ms/step - loss: 0.6875 - val_loss: 0.6874\n",
            "Epoch 40/100\n",
            "235/235 [==============================] - 2s 10ms/step - loss: 0.6873 - val_loss: 0.6871\n",
            "Epoch 41/100\n",
            "235/235 [==============================] - 2s 10ms/step - loss: 0.6871 - val_loss: 0.6869\n",
            "Epoch 42/100\n",
            "235/235 [==============================] - 3s 11ms/step - loss: 0.6868 - val_loss: 0.6867\n",
            "Epoch 43/100\n",
            "235/235 [==============================] - 3s 14ms/step - loss: 0.6866 - val_loss: 0.6864\n",
            "Epoch 44/100\n",
            "235/235 [==============================] - 2s 11ms/step - loss: 0.6864 - val_loss: 0.6862\n",
            "Epoch 45/100\n",
            "235/235 [==============================] - 3s 11ms/step - loss: 0.6861 - val_loss: 0.6859\n",
            "Epoch 46/100\n",
            "235/235 [==============================] - 3s 11ms/step - loss: 0.6858 - val_loss: 0.6856\n",
            "Epoch 47/100\n",
            "235/235 [==============================] - 3s 14ms/step - loss: 0.6856 - val_loss: 0.6854\n",
            "Epoch 48/100\n",
            "235/235 [==============================] - 3s 12ms/step - loss: 0.6853 - val_loss: 0.6851\n",
            "Epoch 49/100\n",
            "235/235 [==============================] - 2s 10ms/step - loss: 0.6850 - val_loss: 0.6848\n",
            "Epoch 50/100\n",
            "235/235 [==============================] - 2s 10ms/step - loss: 0.6847 - val_loss: 0.6845\n",
            "Epoch 51/100\n",
            "235/235 [==============================] - 2s 9ms/step - loss: 0.6845 - val_loss: 0.6842\n",
            "Epoch 52/100\n",
            "235/235 [==============================] - 3s 13ms/step - loss: 0.6842 - val_loss: 0.6839\n",
            "Epoch 53/100\n",
            "235/235 [==============================] - 3s 11ms/step - loss: 0.6839 - val_loss: 0.6836\n",
            "Epoch 54/100\n",
            "235/235 [==============================] - 3s 11ms/step - loss: 0.6835 - val_loss: 0.6833\n",
            "Epoch 55/100\n",
            "235/235 [==============================] - 2s 10ms/step - loss: 0.6832 - val_loss: 0.6830\n",
            "Epoch 56/100\n",
            "235/235 [==============================] - 2s 11ms/step - loss: 0.6829 - val_loss: 0.6826\n",
            "Epoch 57/100\n",
            "235/235 [==============================] - 4s 15ms/step - loss: 0.6826 - val_loss: 0.6823\n",
            "Epoch 58/100\n",
            "235/235 [==============================] - 2s 10ms/step - loss: 0.6822 - val_loss: 0.6819\n",
            "Epoch 59/100\n",
            "235/235 [==============================] - 2s 10ms/step - loss: 0.6819 - val_loss: 0.6816\n",
            "Epoch 60/100\n",
            "235/235 [==============================] - 3s 11ms/step - loss: 0.6815 - val_loss: 0.6812\n",
            "Epoch 61/100\n",
            "235/235 [==============================] - 2s 10ms/step - loss: 0.6811 - val_loss: 0.6808\n",
            "Epoch 62/100\n",
            "235/235 [==============================] - 3s 15ms/step - loss: 0.6808 - val_loss: 0.6804\n",
            "Epoch 63/100\n",
            "235/235 [==============================] - 3s 12ms/step - loss: 0.6804 - val_loss: 0.6800\n",
            "Epoch 64/100\n",
            "235/235 [==============================] - 2s 10ms/step - loss: 0.6800 - val_loss: 0.6796\n",
            "Epoch 65/100\n",
            "235/235 [==============================] - 3s 11ms/step - loss: 0.6795 - val_loss: 0.6792\n",
            "Epoch 66/100\n",
            "235/235 [==============================] - 3s 12ms/step - loss: 0.6791 - val_loss: 0.6787\n",
            "Epoch 67/100\n",
            "235/235 [==============================] - 3s 14ms/step - loss: 0.6787 - val_loss: 0.6783\n",
            "Epoch 68/100\n",
            "235/235 [==============================] - 2s 10ms/step - loss: 0.6782 - val_loss: 0.6778\n",
            "Epoch 69/100\n",
            "235/235 [==============================] - 2s 10ms/step - loss: 0.6778 - val_loss: 0.6774\n",
            "Epoch 70/100\n",
            "235/235 [==============================] - 3s 12ms/step - loss: 0.6773 - val_loss: 0.6769\n",
            "Epoch 71/100\n",
            "235/235 [==============================] - 3s 13ms/step - loss: 0.6768 - val_loss: 0.6764\n",
            "Epoch 72/100\n",
            "235/235 [==============================] - 3s 11ms/step - loss: 0.6763 - val_loss: 0.6759\n",
            "Epoch 73/100\n",
            "235/235 [==============================] - 2s 10ms/step - loss: 0.6758 - val_loss: 0.6753\n",
            "Epoch 74/100\n",
            "235/235 [==============================] - 2s 10ms/step - loss: 0.6753 - val_loss: 0.6748\n",
            "Epoch 75/100\n",
            "235/235 [==============================] - 2s 10ms/step - loss: 0.6747 - val_loss: 0.6742\n",
            "Epoch 76/100\n",
            "235/235 [==============================] - 3s 12ms/step - loss: 0.6742 - val_loss: 0.6736\n",
            "Epoch 77/100\n",
            "235/235 [==============================] - 3s 13ms/step - loss: 0.6736 - val_loss: 0.6731\n",
            "Epoch 78/100\n",
            "235/235 [==============================] - 3s 11ms/step - loss: 0.6730 - val_loss: 0.6724\n",
            "Epoch 79/100\n",
            "235/235 [==============================] - 2s 10ms/step - loss: 0.6724 - val_loss: 0.6718\n",
            "Epoch 80/100\n",
            "235/235 [==============================] - 3s 11ms/step - loss: 0.6718 - val_loss: 0.6712\n",
            "Epoch 81/100\n",
            "235/235 [==============================] - 3s 14ms/step - loss: 0.6711 - val_loss: 0.6705\n",
            "Epoch 82/100\n",
            "235/235 [==============================] - 2s 10ms/step - loss: 0.6705 - val_loss: 0.6698\n",
            "Epoch 83/100\n",
            "235/235 [==============================] - 2s 10ms/step - loss: 0.6698 - val_loss: 0.6691\n",
            "Epoch 84/100\n",
            "235/235 [==============================] - 3s 11ms/step - loss: 0.6691 - val_loss: 0.6684\n",
            "Epoch 85/100\n",
            "235/235 [==============================] - 3s 11ms/step - loss: 0.6684 - val_loss: 0.6677\n",
            "Epoch 86/100\n",
            "235/235 [==============================] - 3s 15ms/step - loss: 0.6676 - val_loss: 0.6669\n",
            "Epoch 87/100\n",
            "235/235 [==============================] - 2s 11ms/step - loss: 0.6669 - val_loss: 0.6661\n",
            "Epoch 88/100\n",
            "235/235 [==============================] - 3s 11ms/step - loss: 0.6661 - val_loss: 0.6653\n",
            "Epoch 89/100\n",
            "235/235 [==============================] - 3s 11ms/step - loss: 0.6653 - val_loss: 0.6645\n",
            "Epoch 90/100\n",
            "235/235 [==============================] - 3s 12ms/step - loss: 0.6645 - val_loss: 0.6637\n",
            "Epoch 91/100\n",
            "235/235 [==============================] - 3s 13ms/step - loss: 0.6636 - val_loss: 0.6628\n",
            "Epoch 92/100\n",
            "235/235 [==============================] - 2s 10ms/step - loss: 0.6627 - val_loss: 0.6619\n",
            "Epoch 93/100\n",
            "235/235 [==============================] - 2s 9ms/step - loss: 0.6618 - val_loss: 0.6610\n",
            "Epoch 94/100\n",
            "235/235 [==============================] - 2s 9ms/step - loss: 0.6609 - val_loss: 0.6600\n",
            "Epoch 95/100\n",
            "235/235 [==============================] - 3s 11ms/step - loss: 0.6600 - val_loss: 0.6590\n",
            "Epoch 96/100\n",
            "235/235 [==============================] - 3s 13ms/step - loss: 0.6590 - val_loss: 0.6580\n",
            "Epoch 97/100\n",
            "235/235 [==============================] - 2s 10ms/step - loss: 0.6580 - val_loss: 0.6570\n",
            "Epoch 98/100\n",
            "235/235 [==============================] - 3s 11ms/step - loss: 0.6570 - val_loss: 0.6560\n",
            "Epoch 99/100\n",
            "235/235 [==============================] - 3s 11ms/step - loss: 0.6559 - val_loss: 0.6549\n",
            "Epoch 100/100\n",
            "235/235 [==============================] - 3s 12ms/step - loss: 0.6548 - val_loss: 0.6538\n"
          ]
        },
        {
          "output_type": "execute_result",
          "data": {
            "text/plain": [
              "<keras.src.callbacks.History at 0x78f246b89a20>"
            ]
          },
          "metadata": {},
          "execution_count": 27
        }
      ]
    }
  ]
}