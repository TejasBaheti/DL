{
 "cells": [
  {
   "cell_type": "code",
   "execution_count": 1,
   "id": "90ba70cb",
   "metadata": {},
   "outputs": [],
   "source": [
    "import torch\n",
    "import numpy as np"
   ]
  },
  {
   "cell_type": "code",
   "execution_count": 2,
   "id": "3ea685b9",
   "metadata": {},
   "outputs": [
    {
     "name": "stdout",
     "output_type": "stream",
     "text": [
      "<class 'torch.Tensor'>\n"
     ]
    }
   ],
   "source": [
    "data = [\n",
    "[1,2],\n",
    "[3,4]\n",
    "]\n",
    "x_data = torch.tensor(data)\n",
    "print(type(x_data))"
   ]
  },
  {
   "cell_type": "code",
   "execution_count": 3,
   "id": "ecf3a7ec",
   "metadata": {},
   "outputs": [
    {
     "name": "stdout",
     "output_type": "stream",
     "text": [
      "tensor([[1, 2],\n",
      "        [3, 4]])\n",
      "<class 'torch.Tensor'>\n"
     ]
    }
   ],
   "source": [
    "np_array = np.array(data)\n",
    "x_np = torch.from_numpy(np_array)\n",
    "print(x_np)\n",
    "print(type(x_np))"
   ]
  },
  {
   "cell_type": "code",
   "execution_count": 4,
   "id": "ea3a8177",
   "metadata": {},
   "outputs": [
    {
     "name": "stdout",
     "output_type": "stream",
     "text": [
      "One Tensor: \n",
      " tensor([[1, 1],\n",
      "        [1, 1]])\n",
      "tensor([[0.1342, 0.8478],\n",
      "        [0.4156, 0.5969]])\n"
     ]
    }
   ],
   "source": [
    "x_ones = torch.ones_like(x_data)\n",
    "print(\"One Tensor: \\n\",x_ones)\n",
    "x_rand = torch.rand_like(x_data,dtype=torch.float)\n",
    "print(x_rand)"
   ]
  },
  {
   "cell_type": "code",
   "execution_count": 5,
   "id": "0edc963b",
   "metadata": {},
   "outputs": [
    {
     "name": "stdout",
     "output_type": "stream",
     "text": [
      "tensor([[0.9948, 0.0378, 0.5061],\n",
      "        [0.4468, 0.4558, 0.0942]])\n",
      "<class 'torch.Tensor'>\n"
     ]
    }
   ],
   "source": [
    "shape = (2,3)\n",
    "random_tensor = torch.rand(shape)\n",
    "print(random_tensor)\n",
    "print(type(random_tensor))"
   ]
  },
  {
   "cell_type": "code",
   "execution_count": 6,
   "id": "4f8419a8",
   "metadata": {},
   "outputs": [
    {
     "name": "stdout",
     "output_type": "stream",
     "text": [
      "tensor([[1., 1., 1.],\n",
      "        [1., 1., 1.]])\n",
      "<class 'torch.Tensor'>\n",
      "tensor([[0., 0., 0.],\n",
      "        [0., 0., 0.]])\n",
      "<class 'torch.Tensor'>\n",
      "tensor([[0.2973, 0.8964, 0.8680, 0.7697],\n",
      "        [0.6547, 0.6143, 0.4195, 0.5790],\n",
      "        [0.6966, 0.2908, 0.9431, 0.4890]])\n"
     ]
    },
    {
     "data": {
      "text/plain": [
       "device(type='cpu')"
      ]
     },
     "execution_count": 6,
     "metadata": {},
     "output_type": "execute_result"
    }
   ],
   "source": [
    "ones_tensor = torch.ones(shape)\n",
    "print(ones_tensor)\n",
    "print(type(ones_tensor))\n",
    "zeros_tensor = torch.zeros(shape)\n",
    "print(zeros_tensor)\n",
    "print(type(zeros_tensor))\n",
    "tensor = torch.rand(3,4)\n",
    "print(tensor)\n",
    "tensor.shape\n",
    "tensor.dtype\n",
    "tensor.device"
   ]
  },
  {
   "cell_type": "code",
   "execution_count": null,
   "id": "2b8ff0bf",
   "metadata": {},
   "outputs": [],
   "source": []
  }
 ],
 "metadata": {
  "kernelspec": {
   "display_name": "Python 3 (ipykernel)",
   "language": "python",
   "name": "python3"
  },
  "language_info": {
   "codemirror_mode": {
    "name": "ipython",
    "version": 3
   },
   "file_extension": ".py",
   "mimetype": "text/x-python",
   "name": "python",
   "nbconvert_exporter": "python",
   "pygments_lexer": "ipython3",
   "version": "3.10.12"
  }
 },
 "nbformat": 4,
 "nbformat_minor": 5
}
